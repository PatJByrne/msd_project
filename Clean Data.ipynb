{
 "cells": [
  {
   "cell_type": "code",
   "execution_count": 162,
   "metadata": {
    "collapsed": false
   },
   "outputs": [
    {
     "name": "stdout",
     "output_type": "stream",
     "text": [
      "The autoreload extension is already loaded. To reload it, use:\n",
      "  %reload_ext autoreload\n"
     ]
    }
   ],
   "source": [
    "%load_ext autoreload\n",
    "%autoreload 2\n",
    "%matplotlib inline"
   ]
  },
  {
   "cell_type": "code",
   "execution_count": 163,
   "metadata": {
    "collapsed": true
   },
   "outputs": [],
   "source": [
    "from __future__ import print_function\n",
    "import csv as csv\n",
    "import numpy as np\n",
    "import pandas as pd\n",
    "import matplotlib.pyplot as plt\n",
    "#mpl.rcParams.update({'axes.labelsize': 20})\n",
    "import copy\n",
    "import re"
   ]
  },
  {
   "cell_type": "code",
   "execution_count": 164,
   "metadata": {
    "collapsed": true
   },
   "outputs": [],
   "source": [
    "route_df = pd.read_csv('Race_data_team_splits_checkpoints.csv', header=0)"
   ]
  },
  {
   "cell_type": "code",
   "execution_count": 165,
   "metadata": {
    "collapsed": false
   },
   "outputs": [],
   "source": [
    "route_df['team ID'] = route_df['Name'].map(lambda x: int(x[:3]))\n",
    "route_df['Team Name'] = route_df['Name'].map(lambda x: x[4:].strip())\n",
    "route_df['Checkpoint'] = route_df['Checkpoint'].str.replace(r\"\\(\",\"\")\n",
    "route_df['Checkpoint'] = route_df['Checkpoint'].str.replace(r\"\\)\",\"\")\n",
    "route_df.columns = ['Name', 'Checkpoint', 'Total Time', 'Split', 'team ID', 'Team Name']\n",
    "route_df = route_df.drop('Name', 1)"
   ]
  },
  {
   "cell_type": "code",
   "execution_count": 166,
   "metadata": {
    "collapsed": true
   },
   "outputs": [],
   "source": [
    "cols = route_df.columns.tolist()\n",
    "cols = cols[-2:] + cols[:-2]\n",
    "route_df = route_df[cols]"
   ]
  },
  {
   "cell_type": "code",
   "execution_count": 167,
   "metadata": {
    "collapsed": true
   },
   "outputs": [],
   "source": [
    "route_df.to_csv('clean_data/team_routes.csv')"
   ]
  },
  {
   "cell_type": "code",
   "execution_count": 168,
   "metadata": {
    "collapsed": false
   },
   "outputs": [
    {
     "data": {
      "text/html": [
       "<div style=\"max-height:1000px;max-width:1500px;overflow:auto;\">\n",
       "<table border=\"1\" class=\"dataframe\">\n",
       "  <thead>\n",
       "    <tr style=\"text-align: right;\">\n",
       "      <th></th>\n",
       "      <th>team ID</th>\n",
       "      <th>Team Name</th>\n",
       "      <th>Checkpoint</th>\n",
       "      <th>Total Time</th>\n",
       "      <th>Split</th>\n",
       "    </tr>\n",
       "  </thead>\n",
       "  <tbody>\n",
       "    <tr>\n",
       "      <th>0 </th>\n",
       "      <td> 285</td>\n",
       "      <td> NimKik Skulls</td>\n",
       "      <td> 105</td>\n",
       "      <td> 0:13:04</td>\n",
       "      <td> 0:13:04</td>\n",
       "    </tr>\n",
       "    <tr>\n",
       "      <th>1 </th>\n",
       "      <td> 285</td>\n",
       "      <td> NimKik Skulls</td>\n",
       "      <td> 126</td>\n",
       "      <td> 0:27:33</td>\n",
       "      <td> 0:14:29</td>\n",
       "    </tr>\n",
       "    <tr>\n",
       "      <th>2 </th>\n",
       "      <td> 285</td>\n",
       "      <td> NimKik Skulls</td>\n",
       "      <td> 143</td>\n",
       "      <td> 0:45:17</td>\n",
       "      <td> 0:17:44</td>\n",
       "    </tr>\n",
       "    <tr>\n",
       "      <th>3 </th>\n",
       "      <td> 285</td>\n",
       "      <td> NimKik Skulls</td>\n",
       "      <td> 103</td>\n",
       "      <td> 1:11:47</td>\n",
       "      <td> 0:26:30</td>\n",
       "    </tr>\n",
       "    <tr>\n",
       "      <th>4 </th>\n",
       "      <td> 285</td>\n",
       "      <td> NimKik Skulls</td>\n",
       "      <td> 132</td>\n",
       "      <td> 1:26:53</td>\n",
       "      <td> 0:15:06</td>\n",
       "    </tr>\n",
       "    <tr>\n",
       "      <th>5 </th>\n",
       "      <td> 285</td>\n",
       "      <td> NimKik Skulls</td>\n",
       "      <td> 140</td>\n",
       "      <td> 1:41:00</td>\n",
       "      <td> 0:14:07</td>\n",
       "    </tr>\n",
       "    <tr>\n",
       "      <th>6 </th>\n",
       "      <td> 285</td>\n",
       "      <td> NimKik Skulls</td>\n",
       "      <td> 141</td>\n",
       "      <td> 2:15:35</td>\n",
       "      <td> 0:34:35</td>\n",
       "    </tr>\n",
       "    <tr>\n",
       "      <th>7 </th>\n",
       "      <td> 285</td>\n",
       "      <td> NimKik Skulls</td>\n",
       "      <td> 110</td>\n",
       "      <td> 2:30:45</td>\n",
       "      <td> 0:15:10</td>\n",
       "    </tr>\n",
       "    <tr>\n",
       "      <th>8 </th>\n",
       "      <td> 285</td>\n",
       "      <td> NimKik Skulls</td>\n",
       "      <td> 109</td>\n",
       "      <td> 2:45:03</td>\n",
       "      <td> 0:14:18</td>\n",
       "    </tr>\n",
       "    <tr>\n",
       "      <th>9 </th>\n",
       "      <td> 285</td>\n",
       "      <td> NimKik Skulls</td>\n",
       "      <td> 111</td>\n",
       "      <td> 2:49:09</td>\n",
       "      <td> 0:04:06</td>\n",
       "    </tr>\n",
       "    <tr>\n",
       "      <th>10</th>\n",
       "      <td> 285</td>\n",
       "      <td> NimKik Skulls</td>\n",
       "      <td>   F</td>\n",
       "      <td> 2:52:03</td>\n",
       "      <td> 0:02:54</td>\n",
       "    </tr>\n",
       "    <tr>\n",
       "      <th>11</th>\n",
       "      <td> 286</td>\n",
       "      <td>      Team 3DZ</td>\n",
       "      <td> 109</td>\n",
       "      <td> 0:04:59</td>\n",
       "      <td> 0:04:59</td>\n",
       "    </tr>\n",
       "    <tr>\n",
       "      <th>12</th>\n",
       "      <td> 286</td>\n",
       "      <td>      Team 3DZ</td>\n",
       "      <td> 106</td>\n",
       "      <td> 0:12:33</td>\n",
       "      <td> 0:07:34</td>\n",
       "    </tr>\n",
       "    <tr>\n",
       "      <th>13</th>\n",
       "      <td> 286</td>\n",
       "      <td>      Team 3DZ</td>\n",
       "      <td> 118</td>\n",
       "      <td> 0:27:12</td>\n",
       "      <td> 0:14:39</td>\n",
       "    </tr>\n",
       "    <tr>\n",
       "      <th>14</th>\n",
       "      <td> 286</td>\n",
       "      <td>      Team 3DZ</td>\n",
       "      <td> 104</td>\n",
       "      <td> 0:50:24</td>\n",
       "      <td> 0:23:12</td>\n",
       "    </tr>\n",
       "    <tr>\n",
       "      <th>15</th>\n",
       "      <td> 286</td>\n",
       "      <td>      Team 3DZ</td>\n",
       "      <td> 131</td>\n",
       "      <td> 1:11:19</td>\n",
       "      <td> 0:20:55</td>\n",
       "    </tr>\n",
       "    <tr>\n",
       "      <th>16</th>\n",
       "      <td> 286</td>\n",
       "      <td>      Team 3DZ</td>\n",
       "      <td> 133</td>\n",
       "      <td> 1:41:54</td>\n",
       "      <td> 0:30:35</td>\n",
       "    </tr>\n",
       "    <tr>\n",
       "      <th>17</th>\n",
       "      <td> 286</td>\n",
       "      <td>      Team 3DZ</td>\n",
       "      <td> 119</td>\n",
       "      <td> 1:55:58</td>\n",
       "      <td> 0:14:04</td>\n",
       "    </tr>\n",
       "    <tr>\n",
       "      <th>18</th>\n",
       "      <td> 286</td>\n",
       "      <td>      Team 3DZ</td>\n",
       "      <td> 128</td>\n",
       "      <td> 2:14:30</td>\n",
       "      <td> 0:18:32</td>\n",
       "    </tr>\n",
       "    <tr>\n",
       "      <th>19</th>\n",
       "      <td> 286</td>\n",
       "      <td>      Team 3DZ</td>\n",
       "      <td>   F</td>\n",
       "      <td> 2:56:23</td>\n",
       "      <td> 0:41:53</td>\n",
       "    </tr>\n",
       "  </tbody>\n",
       "</table>\n",
       "</div>"
      ],
      "text/plain": [
       "    team ID      Team Name Checkpoint Total Time    Split\n",
       "0       285  NimKik Skulls        105    0:13:04  0:13:04\n",
       "1       285  NimKik Skulls        126    0:27:33  0:14:29\n",
       "2       285  NimKik Skulls        143    0:45:17  0:17:44\n",
       "3       285  NimKik Skulls        103    1:11:47  0:26:30\n",
       "4       285  NimKik Skulls        132    1:26:53  0:15:06\n",
       "5       285  NimKik Skulls        140    1:41:00  0:14:07\n",
       "6       285  NimKik Skulls        141    2:15:35  0:34:35\n",
       "7       285  NimKik Skulls        110    2:30:45  0:15:10\n",
       "8       285  NimKik Skulls        109    2:45:03  0:14:18\n",
       "9       285  NimKik Skulls        111    2:49:09  0:04:06\n",
       "10      285  NimKik Skulls          F    2:52:03  0:02:54\n",
       "11      286       Team 3DZ        109    0:04:59  0:04:59\n",
       "12      286       Team 3DZ        106    0:12:33  0:07:34\n",
       "13      286       Team 3DZ        118    0:27:12  0:14:39\n",
       "14      286       Team 3DZ        104    0:50:24  0:23:12\n",
       "15      286       Team 3DZ        131    1:11:19  0:20:55\n",
       "16      286       Team 3DZ        133    1:41:54  0:30:35\n",
       "17      286       Team 3DZ        119    1:55:58  0:14:04\n",
       "18      286       Team 3DZ        128    2:14:30  0:18:32\n",
       "19      286       Team 3DZ          F    2:56:23  0:41:53"
      ]
     },
     "execution_count": 168,
     "metadata": {},
     "output_type": "execute_result"
    }
   ],
   "source": [
    "route_df.head(20)"
   ]
  },
  {
   "cell_type": "code",
   "execution_count": 169,
   "metadata": {
    "collapsed": true
   },
   "outputs": [],
   "source": [
    "team_df = pd.read_csv('registration_list.csv', header=0)\n",
    "score_df = pd.read_csv('Team_place_time_score.csv', header=None)"
   ]
  },
  {
   "cell_type": "code",
   "execution_count": 170,
   "metadata": {
    "collapsed": false
   },
   "outputs": [],
   "source": [
    "team_df['test'] = team_df['Team Name'].map(lambda x: ''.join(x.split(' ')).strip())"
   ]
  },
  {
   "cell_type": "code",
   "execution_count": 198,
   "metadata": {
    "collapsed": false
   },
   "outputs": [
    {
     "data": {
      "text/html": [
       "<div style=\"max-height:1000px;max-width:1500px;overflow:auto;\">\n",
       "<table border=\"1\" class=\"dataframe\">\n",
       "  <thead>\n",
       "    <tr style=\"text-align: right;\">\n",
       "      <th></th>\n",
       "      <th>Size</th>\n",
       "      <th>time_limit</th>\n",
       "    </tr>\n",
       "  </thead>\n",
       "  <tbody>\n",
       "    <tr>\n",
       "      <th>count</th>\n",
       "      <td> 79.0000</td>\n",
       "      <td> 79.0000</td>\n",
       "    </tr>\n",
       "    <tr>\n",
       "      <th>mean</th>\n",
       "      <td>  1.9114</td>\n",
       "      <td>  5.2025</td>\n",
       "    </tr>\n",
       "    <tr>\n",
       "      <th>std</th>\n",
       "      <td>  0.9499</td>\n",
       "      <td>  1.3338</td>\n",
       "    </tr>\n",
       "    <tr>\n",
       "      <th>min</th>\n",
       "      <td>  1.0000</td>\n",
       "      <td>  3.0000</td>\n",
       "    </tr>\n",
       "    <tr>\n",
       "      <th>25%</th>\n",
       "      <td>  1.0000</td>\n",
       "      <td>  3.0000</td>\n",
       "    </tr>\n",
       "    <tr>\n",
       "      <th>50%</th>\n",
       "      <td>  2.0000</td>\n",
       "      <td>  6.0000</td>\n",
       "    </tr>\n",
       "    <tr>\n",
       "      <th>75%</th>\n",
       "      <td>  2.0000</td>\n",
       "      <td>  6.0000</td>\n",
       "    </tr>\n",
       "    <tr>\n",
       "      <th>max</th>\n",
       "      <td>  5.0000</td>\n",
       "      <td>  6.0000</td>\n",
       "    </tr>\n",
       "  </tbody>\n",
       "</table>\n",
       "</div>"
      ],
      "text/plain": [
       "          Size  time_limit\n",
       "count  79.0000     79.0000\n",
       "mean    1.9114      5.2025\n",
       "std     0.9499      1.3338\n",
       "min     1.0000      3.0000\n",
       "25%     1.0000      3.0000\n",
       "50%     2.0000      6.0000\n",
       "75%     2.0000      6.0000\n",
       "max     5.0000      6.0000"
      ]
     },
     "execution_count": 198,
     "metadata": {},
     "output_type": "execute_result"
    }
   ],
   "source": [
    "team_df.describe()"
   ]
  },
  {
   "cell_type": "code",
   "execution_count": 172,
   "metadata": {
    "collapsed": false
   },
   "outputs": [],
   "source": [
    "score_df.columns = ['Rank', 'Name', 'Class', 'Club', 'Time', 'Score', 'Gross Score', 'Penalty', 'time_limit']"
   ]
  },
  {
   "cell_type": "code",
   "execution_count": 173,
   "metadata": {
    "collapsed": false
   },
   "outputs": [],
   "source": [
    "score_df['team ID'] = score_df['Name'].map(lambda x: int(x[:3]))\n",
    "score_df['Team Name'] = score_df['Name'].map(lambda x: x[4:].strip())\n",
    "score_df['test'] = score_df['Team Name'].map(lambda x: ''.join(x.split(' ')).strip())"
   ]
  },
  {
   "cell_type": "code",
   "execution_count": 174,
   "metadata": {
    "collapsed": false
   },
   "outputs": [
    {
     "data": {
      "text/html": [
       "<div style=\"max-height:1000px;max-width:1500px;overflow:auto;\">\n",
       "<table border=\"1\" class=\"dataframe\">\n",
       "  <thead>\n",
       "    <tr style=\"text-align: right;\">\n",
       "      <th></th>\n",
       "      <th>Rank</th>\n",
       "      <th>Name</th>\n",
       "      <th>Class</th>\n",
       "      <th>Club</th>\n",
       "      <th>Time</th>\n",
       "      <th>Score</th>\n",
       "      <th>Gross Score</th>\n",
       "      <th>Penalty</th>\n",
       "      <th>time_limit</th>\n",
       "      <th>team ID</th>\n",
       "      <th>Team Name</th>\n",
       "      <th>test</th>\n",
       "    </tr>\n",
       "  </thead>\n",
       "  <tbody>\n",
       "    <tr>\n",
       "      <th>17</th>\n",
       "      <td> 17</td>\n",
       "      <td> 459 American Adventure Sports Cycle Shop</td>\n",
       "      <td> EB6</td>\n",
       "      <td> NaN</td>\n",
       "      <td>NaN</td>\n",
       "      <td> 710</td>\n",
       "      <td> 710</td>\n",
       "      <td> 0</td>\n",
       "      <td> 6</td>\n",
       "      <td> 459</td>\n",
       "      <td> American Adventure Sports Cycle Shop</td>\n",
       "      <td> AmericanAdventureSportsCycleShop</td>\n",
       "    </tr>\n",
       "  </tbody>\n",
       "</table>\n",
       "</div>"
      ],
      "text/plain": [
       "    Rank                                      Name Class Club  Time  Score  \\\n",
       "17    17  459 American Adventure Sports Cycle Shop   EB6  NaN   NaN    710   \n",
       "\n",
       "    Gross Score  Penalty  time_limit  team ID  \\\n",
       "17          710        0           6      459   \n",
       "\n",
       "                               Team Name                              test  \n",
       "17  American Adventure Sports Cycle Shop  AmericanAdventureSportsCycleShop  "
      ]
     },
     "execution_count": 174,
     "metadata": {},
     "output_type": "execute_result"
    }
   ],
   "source": [
    "score_df[score_df['Team Name'].str.contains('Cycle')]"
   ]
  },
  {
   "cell_type": "code",
   "execution_count": 199,
   "metadata": {
    "collapsed": false
   },
   "outputs": [
    {
     "data": {
      "text/html": [
       "<div style=\"max-height:1000px;max-width:1500px;overflow:auto;\">\n",
       "<table border=\"1\" class=\"dataframe\">\n",
       "  <thead>\n",
       "    <tr style=\"text-align: right;\">\n",
       "      <th></th>\n",
       "      <th>Rank</th>\n",
       "      <th>Time</th>\n",
       "      <th>Score</th>\n",
       "      <th>Gross Score</th>\n",
       "      <th>Penalty</th>\n",
       "      <th>time_limit</th>\n",
       "      <th>team ID</th>\n",
       "    </tr>\n",
       "  </thead>\n",
       "  <tbody>\n",
       "    <tr>\n",
       "      <th>count</th>\n",
       "      <td> 71.000</td>\n",
       "      <td>  0</td>\n",
       "      <td>   73.0000</td>\n",
       "      <td>   73.0000</td>\n",
       "      <td>  73.0000</td>\n",
       "      <td> 73.0000</td>\n",
       "      <td>  73.0000</td>\n",
       "    </tr>\n",
       "    <tr>\n",
       "      <th>mean</th>\n",
       "      <td> 21.831</td>\n",
       "      <td>NaN</td>\n",
       "      <td>  466.8493</td>\n",
       "      <td>  493.1507</td>\n",
       "      <td>  26.3014</td>\n",
       "      <td>  5.2192</td>\n",
       "      <td> 393.9452</td>\n",
       "    </tr>\n",
       "    <tr>\n",
       "      <th>std</th>\n",
       "      <td> 15.145</td>\n",
       "      <td>NaN</td>\n",
       "      <td>  294.0279</td>\n",
       "      <td>  261.1560</td>\n",
       "      <td>  89.5282</td>\n",
       "      <td>  1.3255</td>\n",
       "      <td>  64.7540</td>\n",
       "    </tr>\n",
       "    <tr>\n",
       "      <th>min</th>\n",
       "      <td>  1.000</td>\n",
       "      <td>NaN</td>\n",
       "      <td> -220.0000</td>\n",
       "      <td>   20.0000</td>\n",
       "      <td>   0.0000</td>\n",
       "      <td>  3.0000</td>\n",
       "      <td> 275.0000</td>\n",
       "    </tr>\n",
       "    <tr>\n",
       "      <th>25%</th>\n",
       "      <td>  9.500</td>\n",
       "      <td>NaN</td>\n",
       "      <td>  260.0000</td>\n",
       "      <td>  300.0000</td>\n",
       "      <td>   0.0000</td>\n",
       "      <td>  3.0000</td>\n",
       "      <td> 401.0000</td>\n",
       "    </tr>\n",
       "    <tr>\n",
       "      <th>50%</th>\n",
       "      <td> 17.000</td>\n",
       "      <td>NaN</td>\n",
       "      <td>  520.0000</td>\n",
       "      <td>  520.0000</td>\n",
       "      <td>   0.0000</td>\n",
       "      <td>  6.0000</td>\n",
       "      <td> 419.0000</td>\n",
       "    </tr>\n",
       "    <tr>\n",
       "      <th>75%</th>\n",
       "      <td> 34.500</td>\n",
       "      <td>NaN</td>\n",
       "      <td>  710.0000</td>\n",
       "      <td>  710.0000</td>\n",
       "      <td>   0.0000</td>\n",
       "      <td>  6.0000</td>\n",
       "      <td> 439.0000</td>\n",
       "    </tr>\n",
       "    <tr>\n",
       "      <th>max</th>\n",
       "      <td> 53.000</td>\n",
       "      <td>NaN</td>\n",
       "      <td> 1170.0000</td>\n",
       "      <td> 1200.0000</td>\n",
       "      <td> 510.0000</td>\n",
       "      <td>  6.0000</td>\n",
       "      <td> 459.0000</td>\n",
       "    </tr>\n",
       "  </tbody>\n",
       "</table>\n",
       "</div>"
      ],
      "text/plain": [
       "         Rank  Time      Score  Gross Score   Penalty  time_limit   team ID\n",
       "count  71.000     0    73.0000      73.0000   73.0000     73.0000   73.0000\n",
       "mean   21.831   NaN   466.8493     493.1507   26.3014      5.2192  393.9452\n",
       "std    15.145   NaN   294.0279     261.1560   89.5282      1.3255   64.7540\n",
       "min     1.000   NaN  -220.0000      20.0000    0.0000      3.0000  275.0000\n",
       "25%     9.500   NaN   260.0000     300.0000    0.0000      3.0000  401.0000\n",
       "50%    17.000   NaN   520.0000     520.0000    0.0000      6.0000  419.0000\n",
       "75%    34.500   NaN   710.0000     710.0000    0.0000      6.0000  439.0000\n",
       "max    53.000   NaN  1170.0000    1200.0000  510.0000      6.0000  459.0000"
      ]
     },
     "execution_count": 199,
     "metadata": {},
     "output_type": "execute_result"
    }
   ],
   "source": [
    "score_df.describe()"
   ]
  },
  {
   "cell_type": "code",
   "execution_count": 175,
   "metadata": {
    "collapsed": false
   },
   "outputs": [],
   "source": [
    "test_df = pd.merge(team_df, score_df, on='test', how='right')"
   ]
  },
  {
   "cell_type": "code",
   "execution_count": 176,
   "metadata": {
    "collapsed": false
   },
   "outputs": [
    {
     "data": {
      "text/html": [
       "<div style=\"max-height:1000px;max-width:1500px;overflow:auto;\">\n",
       "<table border=\"1\" class=\"dataframe\">\n",
       "  <thead>\n",
       "    <tr style=\"text-align: right;\">\n",
       "      <th></th>\n",
       "      <th>Team Name_x</th>\n",
       "      <th>Category</th>\n",
       "      <th>Size</th>\n",
       "      <th>Borrow</th>\n",
       "      <th>time_limit_x</th>\n",
       "      <th>test</th>\n",
       "      <th>Rank</th>\n",
       "      <th>Name</th>\n",
       "      <th>Class</th>\n",
       "      <th>Club</th>\n",
       "      <th>Time</th>\n",
       "      <th>Score</th>\n",
       "      <th>Gross Score</th>\n",
       "      <th>Penalty</th>\n",
       "      <th>time_limit_y</th>\n",
       "      <th>team ID</th>\n",
       "      <th>Team Name_y</th>\n",
       "    </tr>\n",
       "  </thead>\n",
       "  <tbody>\n",
       "    <tr>\n",
       "      <th>69</th>\n",
       "      <td> NaN</td>\n",
       "      <td> NaN</td>\n",
       "      <td>NaN</td>\n",
       "      <td> NaN</td>\n",
       "      <td>NaN</td>\n",
       "      <td>                   FindersKeepers</td>\n",
       "      <td> 14</td>\n",
       "      <td>                      406 Finders Keepers</td>\n",
       "      <td> EM6</td>\n",
       "      <td> NaN</td>\n",
       "      <td>NaN</td>\n",
       "      <td> 740</td>\n",
       "      <td> 740</td>\n",
       "      <td> 0</td>\n",
       "      <td> 6</td>\n",
       "      <td> 406</td>\n",
       "      <td>                      Finders Keepers</td>\n",
       "    </tr>\n",
       "    <tr>\n",
       "      <th>70</th>\n",
       "      <td> NaN</td>\n",
       "      <td> NaN</td>\n",
       "      <td>NaN</td>\n",
       "      <td> NaN</td>\n",
       "      <td>NaN</td>\n",
       "      <td> AmericanAdventureSportsCycleShop</td>\n",
       "      <td> 17</td>\n",
       "      <td> 459 American Adventure Sports Cycle Shop</td>\n",
       "      <td> EB6</td>\n",
       "      <td> NaN</td>\n",
       "      <td>NaN</td>\n",
       "      <td> 710</td>\n",
       "      <td> 710</td>\n",
       "      <td> 0</td>\n",
       "      <td> 6</td>\n",
       "      <td> 459</td>\n",
       "      <td> American Adventure Sports Cycle Shop</td>\n",
       "    </tr>\n",
       "    <tr>\n",
       "      <th>71</th>\n",
       "      <td> NaN</td>\n",
       "      <td> NaN</td>\n",
       "      <td>NaN</td>\n",
       "      <td> NaN</td>\n",
       "      <td>NaN</td>\n",
       "      <td>                          Team3DZ</td>\n",
       "      <td>  7</td>\n",
       "      <td>                             286 Team 3DZ</td>\n",
       "      <td> EM3</td>\n",
       "      <td> NaN</td>\n",
       "      <td>NaN</td>\n",
       "      <td> 180</td>\n",
       "      <td> 180</td>\n",
       "      <td> 0</td>\n",
       "      <td> 3</td>\n",
       "      <td> 286</td>\n",
       "      <td>                             Team 3DZ</td>\n",
       "    </tr>\n",
       "    <tr>\n",
       "      <th>72</th>\n",
       "      <td> NaN</td>\n",
       "      <td> NaN</td>\n",
       "      <td>NaN</td>\n",
       "      <td> NaN</td>\n",
       "      <td>NaN</td>\n",
       "      <td>                    TeamImmelmann</td>\n",
       "      <td> 10</td>\n",
       "      <td>                       276 Team Immelmann</td>\n",
       "      <td> EB3</td>\n",
       "      <td> NaN</td>\n",
       "      <td>NaN</td>\n",
       "      <td> 120</td>\n",
       "      <td> 120</td>\n",
       "      <td> 0</td>\n",
       "      <td> 3</td>\n",
       "      <td> 276</td>\n",
       "      <td>                       Team Immelmann</td>\n",
       "    </tr>\n",
       "  </tbody>\n",
       "</table>\n",
       "</div>"
      ],
      "text/plain": [
       "   Team Name_x Category  Size Borrow  time_limit_x  \\\n",
       "69         NaN      NaN   NaN    NaN           NaN   \n",
       "70         NaN      NaN   NaN    NaN           NaN   \n",
       "71         NaN      NaN   NaN    NaN           NaN   \n",
       "72         NaN      NaN   NaN    NaN           NaN   \n",
       "\n",
       "                                test  Rank  \\\n",
       "69                    FindersKeepers    14   \n",
       "70  AmericanAdventureSportsCycleShop    17   \n",
       "71                           Team3DZ     7   \n",
       "72                     TeamImmelmann    10   \n",
       "\n",
       "                                        Name Class Club  Time  Score  \\\n",
       "69                       406 Finders Keepers   EM6  NaN   NaN    740   \n",
       "70  459 American Adventure Sports Cycle Shop   EB6  NaN   NaN    710   \n",
       "71                              286 Team 3DZ   EM3  NaN   NaN    180   \n",
       "72                        276 Team Immelmann   EB3  NaN   NaN    120   \n",
       "\n",
       "    Gross Score  Penalty  time_limit_y  team ID  \\\n",
       "69          740        0             6      406   \n",
       "70          710        0             6      459   \n",
       "71          180        0             3      286   \n",
       "72          120        0             3      276   \n",
       "\n",
       "                             Team Name_y  \n",
       "69                       Finders Keepers  \n",
       "70  American Adventure Sports Cycle Shop  \n",
       "71                              Team 3DZ  \n",
       "72                        Team Immelmann  "
      ]
     },
     "execution_count": 176,
     "metadata": {},
     "output_type": "execute_result"
    }
   ],
   "source": [
    "test_df[test_df['Size'].isnull()]"
   ]
  },
  {
   "cell_type": "code",
   "execution_count": 177,
   "metadata": {
    "collapsed": true
   },
   "outputs": [],
   "source": [
    "test_df.loc[test_df['team ID'] == 459, 'Borrow'] = 'Y'\n",
    "test_df.loc[test_df['team ID'] == 459, 'Size'] = 4\n",
    "test_df.loc[test_df['team ID'] == 286, 'Borrow'] = 'Y'\n",
    "test_df.loc[test_df['team ID'] == 286, 'Size'] = 5\n",
    "test_df.loc[test_df['team ID'] == 276, 'Borrow'] = 'Y'\n",
    "test_df.loc[test_df['team ID'] == 276, 'Size'] = 2"
   ]
  },
  {
   "cell_type": "code",
   "execution_count": 178,
   "metadata": {
    "collapsed": false
   },
   "outputs": [],
   "source": [
    "test_df = test_df[test_df['Size'].notnull()]"
   ]
  },
  {
   "cell_type": "code",
   "execution_count": 179,
   "metadata": {
    "collapsed": true
   },
   "outputs": [],
   "source": [
    "test_df = test_df.drop('Team Name_x', 1)\n",
    "test_df = test_df.drop('time_limit_x', 1)\n",
    "test_df = test_df.drop('Name', 1)\n",
    "test_df = test_df.rename(columns={'Team Name_y': 'Team Name', 'time_limit_y': 'Time Limit'})"
   ]
  },
  {
   "cell_type": "code",
   "execution_count": 181,
   "metadata": {
    "collapsed": false
   },
   "outputs": [
    {
     "data": {
      "text/html": [
       "<div style=\"max-height:1000px;max-width:1500px;overflow:auto;\">\n",
       "<table border=\"1\" class=\"dataframe\">\n",
       "  <thead>\n",
       "    <tr style=\"text-align: right;\">\n",
       "      <th></th>\n",
       "      <th>Category</th>\n",
       "      <th>Size</th>\n",
       "      <th>Borrow</th>\n",
       "      <th>test</th>\n",
       "      <th>Rank</th>\n",
       "      <th>Class</th>\n",
       "      <th>Club</th>\n",
       "      <th>Time</th>\n",
       "      <th>Score</th>\n",
       "      <th>Gross Score</th>\n",
       "      <th>Penalty</th>\n",
       "      <th>Time Limit</th>\n",
       "      <th>team ID</th>\n",
       "      <th>Team Name</th>\n",
       "    </tr>\n",
       "  </thead>\n",
       "  <tbody>\n",
       "    <tr>\n",
       "      <th>0</th>\n",
       "      <td> Masters, Mixed</td>\n",
       "      <td> 2</td>\n",
       "      <td> Y</td>\n",
       "      <td> BeeRingers</td>\n",
       "      <td> 10</td>\n",
       "      <td> MB6</td>\n",
       "      <td>  NaN</td>\n",
       "      <td>NaN</td>\n",
       "      <td> 780</td>\n",
       "      <td> 780</td>\n",
       "      <td>   0</td>\n",
       "      <td> 6</td>\n",
       "      <td> 401</td>\n",
       "      <td>   BeeRingers</td>\n",
       "    </tr>\n",
       "    <tr>\n",
       "      <th>1</th>\n",
       "      <td>   Masters, Men</td>\n",
       "      <td> 2</td>\n",
       "      <td> Y</td>\n",
       "      <td> HighandDry</td>\n",
       "      <td>NaN</td>\n",
       "      <td> MM6</td>\n",
       "      <td>  NaN</td>\n",
       "      <td>NaN</td>\n",
       "      <td> 400</td>\n",
       "      <td> 400</td>\n",
       "      <td>   0</td>\n",
       "      <td> 6</td>\n",
       "      <td> 403</td>\n",
       "      <td> High and Dry</td>\n",
       "    </tr>\n",
       "    <tr>\n",
       "      <th>2</th>\n",
       "      <td>   Masters, Men</td>\n",
       "      <td> 2</td>\n",
       "      <td> Y</td>\n",
       "      <td> HighandDry</td>\n",
       "      <td> 53</td>\n",
       "      <td> MM6</td>\n",
       "      <td>  NaN</td>\n",
       "      <td>NaN</td>\n",
       "      <td>-180</td>\n",
       "      <td> 330</td>\n",
       "      <td> 510</td>\n",
       "      <td> 6</td>\n",
       "      <td> 403</td>\n",
       "      <td> High and Dry</td>\n",
       "    </tr>\n",
       "    <tr>\n",
       "      <th>3</th>\n",
       "      <td> Masters, Mixed</td>\n",
       "      <td> 2</td>\n",
       "      <td> N</td>\n",
       "      <td>  TeamSpang</td>\n",
       "      <td>NaN</td>\n",
       "      <td> MB6</td>\n",
       "      <td> WPOC</td>\n",
       "      <td>NaN</td>\n",
       "      <td> 790</td>\n",
       "      <td> 790</td>\n",
       "      <td>   0</td>\n",
       "      <td> 6</td>\n",
       "      <td> 404</td>\n",
       "      <td>   Team Spang</td>\n",
       "    </tr>\n",
       "    <tr>\n",
       "      <th>4</th>\n",
       "      <td>   Masters, Men</td>\n",
       "      <td> 1</td>\n",
       "      <td> N</td>\n",
       "      <td>  YakiBarak</td>\n",
       "      <td> 37</td>\n",
       "      <td> MM6</td>\n",
       "      <td> WPOC</td>\n",
       "      <td>NaN</td>\n",
       "      <td> 500</td>\n",
       "      <td> 500</td>\n",
       "      <td>   0</td>\n",
       "      <td> 6</td>\n",
       "      <td> 405</td>\n",
       "      <td> Yaki   Barak</td>\n",
       "    </tr>\n",
       "  </tbody>\n",
       "</table>\n",
       "</div>"
      ],
      "text/plain": [
       "         Category  Size Borrow        test  Rank Class  Club  Time  Score  \\\n",
       "0  Masters, Mixed     2      Y  BeeRingers    10   MB6   NaN   NaN    780   \n",
       "1    Masters, Men     2      Y  HighandDry   NaN   MM6   NaN   NaN    400   \n",
       "2    Masters, Men     2      Y  HighandDry    53   MM6   NaN   NaN   -180   \n",
       "3  Masters, Mixed     2      N   TeamSpang   NaN   MB6  WPOC   NaN    790   \n",
       "4    Masters, Men     1      N   YakiBarak    37   MM6  WPOC   NaN    500   \n",
       "\n",
       "   Gross Score  Penalty  Time Limit  team ID     Team Name  \n",
       "0          780        0           6      401    BeeRingers  \n",
       "1          400        0           6      403  High and Dry  \n",
       "2          330      510           6      403  High and Dry  \n",
       "3          790        0           6      404    Team Spang  \n",
       "4          500        0           6      405  Yaki   Barak  "
      ]
     },
     "execution_count": 181,
     "metadata": {},
     "output_type": "execute_result"
    }
   ],
   "source": [
    "test_df.head()"
   ]
  },
  {
   "cell_type": "code",
   "execution_count": 182,
   "metadata": {
    "collapsed": false
   },
   "outputs": [],
   "source": [
    "cols = test_df.columns.tolist()\n",
    "cols = cols[-2:] + cols[:-2]\n",
    "temp = cols[-4]\n",
    "del cols[-4]\n",
    "cols.append(temp)\n",
    "temp = cols[-2]\n",
    "del cols[-2]\n",
    "cols.insert(2, temp)\n",
    "test_df = test_df[cols]"
   ]
  },
  {
   "cell_type": "code",
   "execution_count": 187,
   "metadata": {
    "collapsed": false
   },
   "outputs": [
    {
     "data": {
      "text/html": [
       "<div style=\"max-height:1000px;max-width:1500px;overflow:auto;\">\n",
       "<table border=\"1\" class=\"dataframe\">\n",
       "  <thead>\n",
       "    <tr style=\"text-align: right;\">\n",
       "      <th></th>\n",
       "      <th>team ID</th>\n",
       "      <th>Team Name</th>\n",
       "      <th>Time Limit</th>\n",
       "      <th>Category</th>\n",
       "      <th>Size</th>\n",
       "      <th>Borrow</th>\n",
       "      <th>test</th>\n",
       "      <th>Rank</th>\n",
       "      <th>Class</th>\n",
       "      <th>Club</th>\n",
       "      <th>Time</th>\n",
       "      <th>Gross Score</th>\n",
       "      <th>Penalty</th>\n",
       "      <th>Score</th>\n",
       "    </tr>\n",
       "  </thead>\n",
       "  <tbody>\n",
       "    <tr>\n",
       "      <th>0</th>\n",
       "      <td> 401</td>\n",
       "      <td>   BeeRingers</td>\n",
       "      <td> 6</td>\n",
       "      <td> Masters, Mixed</td>\n",
       "      <td> 2</td>\n",
       "      <td> Y</td>\n",
       "      <td> BeeRingers</td>\n",
       "      <td> 10</td>\n",
       "      <td> MB6</td>\n",
       "      <td>  NaN</td>\n",
       "      <td>NaN</td>\n",
       "      <td> 780</td>\n",
       "      <td>   0</td>\n",
       "      <td> 780</td>\n",
       "    </tr>\n",
       "    <tr>\n",
       "      <th>1</th>\n",
       "      <td> 403</td>\n",
       "      <td> High and Dry</td>\n",
       "      <td> 6</td>\n",
       "      <td>   Masters, Men</td>\n",
       "      <td> 2</td>\n",
       "      <td> Y</td>\n",
       "      <td> HighandDry</td>\n",
       "      <td>NaN</td>\n",
       "      <td> MM6</td>\n",
       "      <td>  NaN</td>\n",
       "      <td>NaN</td>\n",
       "      <td> 400</td>\n",
       "      <td>   0</td>\n",
       "      <td> 400</td>\n",
       "    </tr>\n",
       "    <tr>\n",
       "      <th>2</th>\n",
       "      <td> 403</td>\n",
       "      <td> High and Dry</td>\n",
       "      <td> 6</td>\n",
       "      <td>   Masters, Men</td>\n",
       "      <td> 2</td>\n",
       "      <td> Y</td>\n",
       "      <td> HighandDry</td>\n",
       "      <td> 53</td>\n",
       "      <td> MM6</td>\n",
       "      <td>  NaN</td>\n",
       "      <td>NaN</td>\n",
       "      <td> 330</td>\n",
       "      <td> 510</td>\n",
       "      <td>-180</td>\n",
       "    </tr>\n",
       "    <tr>\n",
       "      <th>3</th>\n",
       "      <td> 404</td>\n",
       "      <td>   Team Spang</td>\n",
       "      <td> 6</td>\n",
       "      <td> Masters, Mixed</td>\n",
       "      <td> 2</td>\n",
       "      <td> N</td>\n",
       "      <td>  TeamSpang</td>\n",
       "      <td>NaN</td>\n",
       "      <td> MB6</td>\n",
       "      <td> WPOC</td>\n",
       "      <td>NaN</td>\n",
       "      <td> 790</td>\n",
       "      <td>   0</td>\n",
       "      <td> 790</td>\n",
       "    </tr>\n",
       "    <tr>\n",
       "      <th>4</th>\n",
       "      <td> 405</td>\n",
       "      <td> Yaki   Barak</td>\n",
       "      <td> 6</td>\n",
       "      <td>   Masters, Men</td>\n",
       "      <td> 1</td>\n",
       "      <td> N</td>\n",
       "      <td>  YakiBarak</td>\n",
       "      <td> 37</td>\n",
       "      <td> MM6</td>\n",
       "      <td> WPOC</td>\n",
       "      <td>NaN</td>\n",
       "      <td> 500</td>\n",
       "      <td>   0</td>\n",
       "      <td> 500</td>\n",
       "    </tr>\n",
       "  </tbody>\n",
       "</table>\n",
       "</div>"
      ],
      "text/plain": [
       "   team ID     Team Name  Time Limit        Category  Size Borrow        test  \\\n",
       "0      401    BeeRingers           6  Masters, Mixed     2      Y  BeeRingers   \n",
       "1      403  High and Dry           6    Masters, Men     2      Y  HighandDry   \n",
       "2      403  High and Dry           6    Masters, Men     2      Y  HighandDry   \n",
       "3      404    Team Spang           6  Masters, Mixed     2      N   TeamSpang   \n",
       "4      405  Yaki   Barak           6    Masters, Men     1      N   YakiBarak   \n",
       "\n",
       "   Rank Class  Club  Time  Gross Score  Penalty  Score  \n",
       "0    10   MB6   NaN   NaN          780        0    780  \n",
       "1   NaN   MM6   NaN   NaN          400        0    400  \n",
       "2    53   MM6   NaN   NaN          330      510   -180  \n",
       "3   NaN   MB6  WPOC   NaN          790        0    790  \n",
       "4    37   MM6  WPOC   NaN          500        0    500  "
      ]
     },
     "execution_count": 187,
     "metadata": {},
     "output_type": "execute_result"
    }
   ],
   "source": [
    "test_df.head()"
   ]
  },
  {
   "cell_type": "code",
   "execution_count": 184,
   "metadata": {
    "collapsed": true
   },
   "outputs": [],
   "source": [
    "test_df.to_csv('clean_data/team_info_score.csv')"
   ]
  },
  {
   "cell_type": "markdown",
   "metadata": {},
   "source": [
    "### Prepare data for model"
   ]
  },
  {
   "cell_type": "code",
   "execution_count": 228,
   "metadata": {
    "collapsed": true
   },
   "outputs": [],
   "source": [
    "model_df = test_df.drop(['Team Name', 'Category', 'test', 'Rank', 'Time', 'Gross Score'], 1)\n"
   ]
  },
  {
   "cell_type": "code",
   "execution_count": 232,
   "metadata": {
    "collapsed": true
   },
   "outputs": [],
   "source": [
    "model_df['Club_b'] = model_df['Club'].fillna(0).map( { 0: 0, 'WPOC': 1 })\n",
    "model_df['Penalty_b'] = model_df['Penalty'].map(lambda x: 0 if x == 0 else 1)\n",
    "model_df['Borrow_b'] = model_df['Borrow'].map( { 'N': 0, 'Y': 1 } )"
   ]
  },
  {
   "cell_type": "code",
   "execution_count": 268,
   "metadata": {
    "collapsed": false
   },
   "outputs": [
    {
     "data": {
      "text/plain": [
       "72"
      ]
     },
     "execution_count": 268,
     "metadata": {},
     "output_type": "execute_result"
    }
   ],
   "source": [
    "model_df.head()"
   ]
  },
  {
   "cell_type": "code",
   "execution_count": 234,
   "metadata": {
    "collapsed": true
   },
   "outputs": [],
   "source": [
    "model_hour3_df = model_df[ model_df['Time Limit'] == 3 ]\n",
    "model_hour6_df = model_df[ model_df['Time Limit'] == 6 ]"
   ]
  },
  {
   "cell_type": "code",
   "execution_count": 237,
   "metadata": {
    "collapsed": false
   },
   "outputs": [],
   "source": [
    "model_hour3_df = pd.concat([model_hour3_df, pd.get_dummies(model_hour3_df['Class'])], axis=1)\n",
    "model_hour6_df = pd.concat([model_hour6_df, pd.get_dummies(model_hour6_df['Class'])], axis=1)"
   ]
  },
  {
   "cell_type": "code",
   "execution_count": 238,
   "metadata": {
    "collapsed": true
   },
   "outputs": [],
   "source": [
    "model_hour3_df = model_hour3_df.drop(['Borrow', 'Class', 'Club', 'Penalty'], 1)\n",
    "model_hour6_df = model_hour6_df.drop(['Borrow', 'Class', 'Club', 'Penalty'], 1)"
   ]
  },
  {
   "cell_type": "markdown",
   "metadata": {},
   "source": [
    "### Adding checkpoints visited to model"
   ]
  },
  {
   "cell_type": "code",
   "execution_count": 255,
   "metadata": {
    "collapsed": false
   },
   "outputs": [
    {
     "data": {
      "text/html": [
       "<div style=\"max-height:1000px;max-width:1500px;overflow:auto;\">\n",
       "<table border=\"1\" class=\"dataframe\">\n",
       "  <thead>\n",
       "    <tr style=\"text-align: right;\">\n",
       "      <th></th>\n",
       "      <th>team ID</th>\n",
       "      <th>Team Name</th>\n",
       "      <th>Checkpoint</th>\n",
       "      <th>Total Time</th>\n",
       "      <th>Split</th>\n",
       "    </tr>\n",
       "  </thead>\n",
       "  <tbody>\n",
       "    <tr>\n",
       "      <th>0</th>\n",
       "      <td> 285</td>\n",
       "      <td> NimKik Skulls</td>\n",
       "      <td> 105</td>\n",
       "      <td> 0:13:04</td>\n",
       "      <td> 0:13:04</td>\n",
       "    </tr>\n",
       "    <tr>\n",
       "      <th>1</th>\n",
       "      <td> 285</td>\n",
       "      <td> NimKik Skulls</td>\n",
       "      <td> 126</td>\n",
       "      <td> 0:27:33</td>\n",
       "      <td> 0:14:29</td>\n",
       "    </tr>\n",
       "    <tr>\n",
       "      <th>2</th>\n",
       "      <td> 285</td>\n",
       "      <td> NimKik Skulls</td>\n",
       "      <td> 143</td>\n",
       "      <td> 0:45:17</td>\n",
       "      <td> 0:17:44</td>\n",
       "    </tr>\n",
       "    <tr>\n",
       "      <th>3</th>\n",
       "      <td> 285</td>\n",
       "      <td> NimKik Skulls</td>\n",
       "      <td> 103</td>\n",
       "      <td> 1:11:47</td>\n",
       "      <td> 0:26:30</td>\n",
       "    </tr>\n",
       "    <tr>\n",
       "      <th>4</th>\n",
       "      <td> 285</td>\n",
       "      <td> NimKik Skulls</td>\n",
       "      <td> 132</td>\n",
       "      <td> 1:26:53</td>\n",
       "      <td> 0:15:06</td>\n",
       "    </tr>\n",
       "  </tbody>\n",
       "</table>\n",
       "</div>"
      ],
      "text/plain": [
       "   team ID      Team Name Checkpoint Total Time    Split\n",
       "0      285  NimKik Skulls        105    0:13:04  0:13:04\n",
       "1      285  NimKik Skulls        126    0:27:33  0:14:29\n",
       "2      285  NimKik Skulls        143    0:45:17  0:17:44\n",
       "3      285  NimKik Skulls        103    1:11:47  0:26:30\n",
       "4      285  NimKik Skulls        132    1:26:53  0:15:06"
      ]
     },
     "execution_count": 255,
     "metadata": {},
     "output_type": "execute_result"
    }
   ],
   "source": [
    "route_df.head()"
   ]
  },
  {
   "cell_type": "code",
   "execution_count": 279,
   "metadata": {
    "collapsed": false
   },
   "outputs": [
    {
     "data": {
      "text/plain": [
       "70"
      ]
     },
     "execution_count": 279,
     "metadata": {},
     "output_type": "execute_result"
    }
   ],
   "source": [
    "checkpoints_by_team = route_df.dropna().groupby('team ID')['Checkpoint'].apply(lambda x: x.tolist())\n",
    "len(checkpoints_by_team.index)"
   ]
  },
  {
   "cell_type": "code",
   "execution_count": 280,
   "metadata": {
    "collapsed": false
   },
   "outputs": [
    {
     "data": {
      "text/plain": [
       "array([[ 0.,  0.,  0., ...,  0.,  0.,  0.],\n",
       "       [ 0.,  0.,  0., ...,  0.,  0.,  0.],\n",
       "       [ 0.,  0.,  0., ...,  0.,  0.,  0.],\n",
       "       ..., \n",
       "       [ 0.,  0.,  0., ...,  0.,  0.,  0.],\n",
       "       [ 0.,  0.,  0., ...,  0.,  0.,  0.],\n",
       "       [ 0.,  0.,  0., ...,  0.,  0.,  0.]])"
      ]
     },
     "execution_count": 280,
     "metadata": {},
     "output_type": "execute_result"
    }
   ],
   "source": [
    "checkpoint_array = np.zeros((70,51))\n",
    "checkpoint_array"
   ]
  },
  {
   "cell_type": "code",
   "execution_count": 282,
   "metadata": {
    "collapsed": false
   },
   "outputs": [],
   "source": [
    "\n",
    "for i,teamID in enumerate(checkpoints_by_team.keys()):\n",
    "    checkpoint_array[i,0] = np.int(teamID)\n",
    "    for checkpoint in checkpoints_by_team[teamID]:\n",
    "        if checkpoint =='F' or checkpoint == 'nan':\n",
    "            continue\n",
    "        idx = np.int(checkpoint) - 100\n",
    "        checkpoint_array[i, idx] = 1\n",
    "    #print(teamID, checkpoints_by_team[teamID])"
   ]
  },
  {
   "cell_type": "code",
   "execution_count": 286,
   "metadata": {
    "collapsed": false
   },
   "outputs": [
    {
     "data": {
      "text/plain": [
       "array([[ 0.,  0.,  0., ...,  0.,  0.,  0.],\n",
       "       [ 0.,  0.,  1., ...,  0.,  0.,  0.],\n",
       "       [ 0.,  0.,  0., ...,  0.,  0.,  0.],\n",
       "       ..., \n",
       "       [ 0.,  1.,  1., ...,  0.,  0.,  0.],\n",
       "       [ 0.,  0.,  0., ...,  0.,  1.,  1.],\n",
       "       [ 1.,  1.,  1., ...,  1.,  0.,  0.]])"
      ]
     },
     "execution_count": 286,
     "metadata": {},
     "output_type": "execute_result"
    }
   ],
   "source": [
    "checkpoint_array[:,1:]"
   ]
  },
  {
   "cell_type": "code",
   "execution_count": 292,
   "metadata": {
    "collapsed": false
   },
   "outputs": [],
   "source": [
    "columns = ['team ID',]\n",
    "columns.extend([ '{}'.format(x) for x in np.arange(101,151)])\n",
    "checkpoint_df = pd.DataFrame.from_records(checkpoint_array, columns=columns)"
   ]
  },
  {
   "cell_type": "code",
   "execution_count": 293,
   "metadata": {
    "collapsed": false
   },
   "outputs": [
    {
     "data": {
      "text/html": [
       "<div style=\"max-height:1000px;max-width:1500px;overflow:auto;\">\n",
       "<table border=\"1\" class=\"dataframe\">\n",
       "  <thead>\n",
       "    <tr style=\"text-align: right;\">\n",
       "      <th></th>\n",
       "      <th>team ID</th>\n",
       "      <th>101</th>\n",
       "      <th>102</th>\n",
       "      <th>103</th>\n",
       "      <th>104</th>\n",
       "      <th>105</th>\n",
       "      <th>106</th>\n",
       "      <th>107</th>\n",
       "      <th>108</th>\n",
       "      <th>109</th>\n",
       "      <th>...</th>\n",
       "      <th>141</th>\n",
       "      <th>142</th>\n",
       "      <th>143</th>\n",
       "      <th>144</th>\n",
       "      <th>145</th>\n",
       "      <th>146</th>\n",
       "      <th>147</th>\n",
       "      <th>148</th>\n",
       "      <th>149</th>\n",
       "      <th>150</th>\n",
       "    </tr>\n",
       "  </thead>\n",
       "  <tbody>\n",
       "    <tr>\n",
       "      <th>0</th>\n",
       "      <td> 275</td>\n",
       "      <td> 0</td>\n",
       "      <td> 0</td>\n",
       "      <td> 0</td>\n",
       "      <td> 1</td>\n",
       "      <td> 0</td>\n",
       "      <td> 1</td>\n",
       "      <td> 0</td>\n",
       "      <td> 0</td>\n",
       "      <td> 1</td>\n",
       "      <td>...</td>\n",
       "      <td> 0</td>\n",
       "      <td> 0</td>\n",
       "      <td> 0</td>\n",
       "      <td> 0</td>\n",
       "      <td> 0</td>\n",
       "      <td> 0</td>\n",
       "      <td> 0</td>\n",
       "      <td> 0</td>\n",
       "      <td> 0</td>\n",
       "      <td> 0</td>\n",
       "    </tr>\n",
       "    <tr>\n",
       "      <th>1</th>\n",
       "      <td> 276</td>\n",
       "      <td> 0</td>\n",
       "      <td> 0</td>\n",
       "      <td> 1</td>\n",
       "      <td> 0</td>\n",
       "      <td> 1</td>\n",
       "      <td> 1</td>\n",
       "      <td> 0</td>\n",
       "      <td> 0</td>\n",
       "      <td> 1</td>\n",
       "      <td>...</td>\n",
       "      <td> 0</td>\n",
       "      <td> 0</td>\n",
       "      <td> 0</td>\n",
       "      <td> 0</td>\n",
       "      <td> 0</td>\n",
       "      <td> 0</td>\n",
       "      <td> 0</td>\n",
       "      <td> 0</td>\n",
       "      <td> 0</td>\n",
       "      <td> 0</td>\n",
       "    </tr>\n",
       "    <tr>\n",
       "      <th>2</th>\n",
       "      <td> 277</td>\n",
       "      <td> 0</td>\n",
       "      <td> 0</td>\n",
       "      <td> 0</td>\n",
       "      <td> 0</td>\n",
       "      <td> 0</td>\n",
       "      <td> 1</td>\n",
       "      <td> 0</td>\n",
       "      <td> 0</td>\n",
       "      <td> 1</td>\n",
       "      <td>...</td>\n",
       "      <td> 0</td>\n",
       "      <td> 0</td>\n",
       "      <td> 0</td>\n",
       "      <td> 0</td>\n",
       "      <td> 0</td>\n",
       "      <td> 0</td>\n",
       "      <td> 0</td>\n",
       "      <td> 0</td>\n",
       "      <td> 0</td>\n",
       "      <td> 0</td>\n",
       "    </tr>\n",
       "    <tr>\n",
       "      <th>3</th>\n",
       "      <td> 278</td>\n",
       "      <td> 1</td>\n",
       "      <td> 0</td>\n",
       "      <td> 0</td>\n",
       "      <td> 0</td>\n",
       "      <td> 0</td>\n",
       "      <td> 0</td>\n",
       "      <td> 0</td>\n",
       "      <td> 0</td>\n",
       "      <td> 1</td>\n",
       "      <td>...</td>\n",
       "      <td> 0</td>\n",
       "      <td> 0</td>\n",
       "      <td> 0</td>\n",
       "      <td> 1</td>\n",
       "      <td> 0</td>\n",
       "      <td> 0</td>\n",
       "      <td> 0</td>\n",
       "      <td> 0</td>\n",
       "      <td> 0</td>\n",
       "      <td> 0</td>\n",
       "    </tr>\n",
       "    <tr>\n",
       "      <th>4</th>\n",
       "      <td> 279</td>\n",
       "      <td> 0</td>\n",
       "      <td> 1</td>\n",
       "      <td> 0</td>\n",
       "      <td> 1</td>\n",
       "      <td> 0</td>\n",
       "      <td> 0</td>\n",
       "      <td> 0</td>\n",
       "      <td> 0</td>\n",
       "      <td> 0</td>\n",
       "      <td>...</td>\n",
       "      <td> 1</td>\n",
       "      <td> 1</td>\n",
       "      <td> 0</td>\n",
       "      <td> 0</td>\n",
       "      <td> 0</td>\n",
       "      <td> 0</td>\n",
       "      <td> 0</td>\n",
       "      <td> 0</td>\n",
       "      <td> 0</td>\n",
       "      <td> 0</td>\n",
       "    </tr>\n",
       "  </tbody>\n",
       "</table>\n",
       "<p>5 rows × 51 columns</p>\n",
       "</div>"
      ],
      "text/plain": [
       "   team ID  101  102  103  104  105  106  107  108  109 ...   141  142  143  \\\n",
       "0      275    0    0    0    1    0    1    0    0    1 ...     0    0    0   \n",
       "1      276    0    0    1    0    1    1    0    0    1 ...     0    0    0   \n",
       "2      277    0    0    0    0    0    1    0    0    1 ...     0    0    0   \n",
       "3      278    1    0    0    0    0    0    0    0    1 ...     0    0    0   \n",
       "4      279    0    1    0    1    0    0    0    0    0 ...     1    1    0   \n",
       "\n",
       "   144  145  146  147  148  149  150  \n",
       "0    0    0    0    0    0    0    0  \n",
       "1    0    0    0    0    0    0    0  \n",
       "2    0    0    0    0    0    0    0  \n",
       "3    1    0    0    0    0    0    0  \n",
       "4    0    0    0    0    0    0    0  \n",
       "\n",
       "[5 rows x 51 columns]"
      ]
     },
     "execution_count": 293,
     "metadata": {},
     "output_type": "execute_result"
    }
   ],
   "source": [
    "checkpoint_df.head()"
   ]
  },
  {
   "cell_type": "code",
   "execution_count": 294,
   "metadata": {
    "collapsed": true
   },
   "outputs": [],
   "source": [
    "model_checkpoints_df = pd.merge(model_df, checkpoint_df, on='team ID', how='right')"
   ]
  },
  {
   "cell_type": "code",
   "execution_count": 298,
   "metadata": {
    "collapsed": false
   },
   "outputs": [
    {
     "data": {
      "text/html": [
       "<div style=\"max-height:1000px;max-width:1500px;overflow:auto;\">\n",
       "<table border=\"1\" class=\"dataframe\">\n",
       "  <thead>\n",
       "    <tr style=\"text-align: right;\">\n",
       "      <th></th>\n",
       "      <th>team ID</th>\n",
       "      <th>Time Limit</th>\n",
       "      <th>Size</th>\n",
       "      <th>Borrow</th>\n",
       "      <th>Class</th>\n",
       "      <th>Club</th>\n",
       "      <th>Penalty</th>\n",
       "      <th>Score</th>\n",
       "      <th>Club_b</th>\n",
       "      <th>Penalty_b</th>\n",
       "      <th>...</th>\n",
       "      <th>141</th>\n",
       "      <th>142</th>\n",
       "      <th>143</th>\n",
       "      <th>144</th>\n",
       "      <th>145</th>\n",
       "      <th>146</th>\n",
       "      <th>147</th>\n",
       "      <th>148</th>\n",
       "      <th>149</th>\n",
       "      <th>150</th>\n",
       "    </tr>\n",
       "  </thead>\n",
       "  <tbody>\n",
       "    <tr>\n",
       "      <th>0</th>\n",
       "      <td> 401</td>\n",
       "      <td> 6</td>\n",
       "      <td> 2</td>\n",
       "      <td> Y</td>\n",
       "      <td> MB6</td>\n",
       "      <td>  NaN</td>\n",
       "      <td> 0</td>\n",
       "      <td> 780</td>\n",
       "      <td> 0</td>\n",
       "      <td> 0</td>\n",
       "      <td>...</td>\n",
       "      <td> 1</td>\n",
       "      <td> 0</td>\n",
       "      <td> 1</td>\n",
       "      <td> 0</td>\n",
       "      <td> 0</td>\n",
       "      <td> 0</td>\n",
       "      <td> 0</td>\n",
       "      <td> 0</td>\n",
       "      <td> 1</td>\n",
       "      <td> 1</td>\n",
       "    </tr>\n",
       "    <tr>\n",
       "      <th>1</th>\n",
       "      <td> 405</td>\n",
       "      <td> 6</td>\n",
       "      <td> 1</td>\n",
       "      <td> N</td>\n",
       "      <td> MM6</td>\n",
       "      <td> WPOC</td>\n",
       "      <td> 0</td>\n",
       "      <td> 500</td>\n",
       "      <td> 1</td>\n",
       "      <td> 0</td>\n",
       "      <td>...</td>\n",
       "      <td> 0</td>\n",
       "      <td> 0</td>\n",
       "      <td> 0</td>\n",
       "      <td> 1</td>\n",
       "      <td> 0</td>\n",
       "      <td> 1</td>\n",
       "      <td> 1</td>\n",
       "      <td> 1</td>\n",
       "      <td> 0</td>\n",
       "      <td> 0</td>\n",
       "    </tr>\n",
       "    <tr>\n",
       "      <th>2</th>\n",
       "      <td> 407</td>\n",
       "      <td> 6</td>\n",
       "      <td> 1</td>\n",
       "      <td> Y</td>\n",
       "      <td> EM6</td>\n",
       "      <td> WPOC</td>\n",
       "      <td> 0</td>\n",
       "      <td> 440</td>\n",
       "      <td> 1</td>\n",
       "      <td> 0</td>\n",
       "      <td>...</td>\n",
       "      <td> 0</td>\n",
       "      <td> 0</td>\n",
       "      <td> 0</td>\n",
       "      <td> 1</td>\n",
       "      <td> 1</td>\n",
       "      <td> 1</td>\n",
       "      <td> 1</td>\n",
       "      <td> 1</td>\n",
       "      <td> 0</td>\n",
       "      <td> 0</td>\n",
       "    </tr>\n",
       "    <tr>\n",
       "      <th>3</th>\n",
       "      <td> 408</td>\n",
       "      <td> 6</td>\n",
       "      <td> 2</td>\n",
       "      <td> Y</td>\n",
       "      <td> EM6</td>\n",
       "      <td>  NaN</td>\n",
       "      <td> 0</td>\n",
       "      <td> 460</td>\n",
       "      <td> 0</td>\n",
       "      <td> 0</td>\n",
       "      <td>...</td>\n",
       "      <td> 0</td>\n",
       "      <td> 0</td>\n",
       "      <td> 0</td>\n",
       "      <td> 0</td>\n",
       "      <td> 0</td>\n",
       "      <td> 0</td>\n",
       "      <td> 0</td>\n",
       "      <td> 0</td>\n",
       "      <td> 0</td>\n",
       "      <td> 0</td>\n",
       "    </tr>\n",
       "    <tr>\n",
       "      <th>4</th>\n",
       "      <td> 409</td>\n",
       "      <td> 6</td>\n",
       "      <td> 2</td>\n",
       "      <td> N</td>\n",
       "      <td> VB6</td>\n",
       "      <td>  NaN</td>\n",
       "      <td> 0</td>\n",
       "      <td> 670</td>\n",
       "      <td> 0</td>\n",
       "      <td> 0</td>\n",
       "      <td>...</td>\n",
       "      <td> 1</td>\n",
       "      <td> 1</td>\n",
       "      <td> 1</td>\n",
       "      <td> 0</td>\n",
       "      <td> 0</td>\n",
       "      <td> 0</td>\n",
       "      <td> 0</td>\n",
       "      <td> 0</td>\n",
       "      <td> 1</td>\n",
       "      <td> 1</td>\n",
       "    </tr>\n",
       "  </tbody>\n",
       "</table>\n",
       "<p>5 rows × 61 columns</p>\n",
       "</div>"
      ],
      "text/plain": [
       "   team ID  Time Limit  Size Borrow Class  Club  Penalty  Score  Club_b  \\\n",
       "0      401           6     2      Y   MB6   NaN        0    780       0   \n",
       "1      405           6     1      N   MM6  WPOC        0    500       1   \n",
       "2      407           6     1      Y   EM6  WPOC        0    440       1   \n",
       "3      408           6     2      Y   EM6   NaN        0    460       0   \n",
       "4      409           6     2      N   VB6   NaN        0    670       0   \n",
       "\n",
       "   Penalty_b ...   141  142  143  144  145  146  147  148  149  150  \n",
       "0          0 ...     1    0    1    0    0    0    0    0    1    1  \n",
       "1          0 ...     0    0    0    1    0    1    1    1    0    0  \n",
       "2          0 ...     0    0    0    1    1    1    1    1    0    0  \n",
       "3          0 ...     0    0    0    0    0    0    0    0    0    0  \n",
       "4          0 ...     1    1    1    0    0    0    0    0    1    1  \n",
       "\n",
       "[5 rows x 61 columns]"
      ]
     },
     "execution_count": 298,
     "metadata": {},
     "output_type": "execute_result"
    }
   ],
   "source": [
    "model_checkpoints_df.head()"
   ]
  },
  {
   "cell_type": "code",
   "execution_count": 299,
   "metadata": {
    "collapsed": true
   },
   "outputs": [],
   "source": [
    "model_checkpoints_hour3_df = model_checkpoints_df[ model_checkpoints_df['Time Limit'] == 3 ]\n",
    "model_checkpoints_hour6_df = model_checkpoints_df[ model_checkpoints_df['Time Limit'] == 6 ]"
   ]
  },
  {
   "cell_type": "code",
   "execution_count": 300,
   "metadata": {
    "collapsed": true
   },
   "outputs": [],
   "source": [
    "model_checkpoints_hour3_df = pd.concat([model_checkpoints_hour3_df, pd.get_dummies(model_checkpoints_hour3_df['Class'])], axis=1)\n",
    "model_checkpoints_hour6_df = pd.concat([model_checkpoints_hour6_df, pd.get_dummies(model_checkpoints_hour6_df['Class'])], axis=1)"
   ]
  },
  {
   "cell_type": "code",
   "execution_count": 301,
   "metadata": {
    "collapsed": true
   },
   "outputs": [],
   "source": [
    "model_checkpoints_hour3_df = model_checkpoints_hour3_df.drop(['Borrow', 'Class', 'Club', 'Penalty'], 1)\n",
    "model_checkpoints_hour6_df = model_checkpoints_hour6_df.drop(['Borrow', 'Class', 'Club', 'Penalty'], 1)"
   ]
  },
  {
   "cell_type": "code",
   "execution_count": 302,
   "metadata": {
    "collapsed": false
   },
   "outputs": [
    {
     "data": {
      "text/html": [
       "<div style=\"max-height:1000px;max-width:1500px;overflow:auto;\">\n",
       "<table border=\"1\" class=\"dataframe\">\n",
       "  <thead>\n",
       "    <tr style=\"text-align: right;\">\n",
       "      <th></th>\n",
       "      <th>team ID</th>\n",
       "      <th>Time Limit</th>\n",
       "      <th>Size</th>\n",
       "      <th>Score</th>\n",
       "      <th>Club_b</th>\n",
       "      <th>Penalty_b</th>\n",
       "      <th>Borrow_b</th>\n",
       "      <th>101</th>\n",
       "      <th>102</th>\n",
       "      <th>103</th>\n",
       "      <th>...</th>\n",
       "      <th>149</th>\n",
       "      <th>150</th>\n",
       "      <th>EB6</th>\n",
       "      <th>EM6</th>\n",
       "      <th>EW6</th>\n",
       "      <th>MB6</th>\n",
       "      <th>MM6</th>\n",
       "      <th>MW6</th>\n",
       "      <th>VB6</th>\n",
       "      <th>VM6</th>\n",
       "    </tr>\n",
       "  </thead>\n",
       "  <tbody>\n",
       "    <tr>\n",
       "      <th>0</th>\n",
       "      <td> 401</td>\n",
       "      <td> 6</td>\n",
       "      <td> 2</td>\n",
       "      <td> 780</td>\n",
       "      <td> 0</td>\n",
       "      <td> 0</td>\n",
       "      <td> 1</td>\n",
       "      <td> 0</td>\n",
       "      <td> 1</td>\n",
       "      <td> 1</td>\n",
       "      <td>...</td>\n",
       "      <td> 1</td>\n",
       "      <td> 1</td>\n",
       "      <td> 0</td>\n",
       "      <td> 0</td>\n",
       "      <td> 0</td>\n",
       "      <td> 1</td>\n",
       "      <td> 0</td>\n",
       "      <td> 0</td>\n",
       "      <td> 0</td>\n",
       "      <td> 0</td>\n",
       "    </tr>\n",
       "    <tr>\n",
       "      <th>1</th>\n",
       "      <td> 405</td>\n",
       "      <td> 6</td>\n",
       "      <td> 1</td>\n",
       "      <td> 500</td>\n",
       "      <td> 1</td>\n",
       "      <td> 0</td>\n",
       "      <td> 0</td>\n",
       "      <td> 1</td>\n",
       "      <td> 0</td>\n",
       "      <td> 0</td>\n",
       "      <td>...</td>\n",
       "      <td> 0</td>\n",
       "      <td> 0</td>\n",
       "      <td> 0</td>\n",
       "      <td> 0</td>\n",
       "      <td> 0</td>\n",
       "      <td> 0</td>\n",
       "      <td> 1</td>\n",
       "      <td> 0</td>\n",
       "      <td> 0</td>\n",
       "      <td> 0</td>\n",
       "    </tr>\n",
       "    <tr>\n",
       "      <th>2</th>\n",
       "      <td> 407</td>\n",
       "      <td> 6</td>\n",
       "      <td> 1</td>\n",
       "      <td> 440</td>\n",
       "      <td> 1</td>\n",
       "      <td> 0</td>\n",
       "      <td> 1</td>\n",
       "      <td> 0</td>\n",
       "      <td> 0</td>\n",
       "      <td> 0</td>\n",
       "      <td>...</td>\n",
       "      <td> 0</td>\n",
       "      <td> 0</td>\n",
       "      <td> 0</td>\n",
       "      <td> 1</td>\n",
       "      <td> 0</td>\n",
       "      <td> 0</td>\n",
       "      <td> 0</td>\n",
       "      <td> 0</td>\n",
       "      <td> 0</td>\n",
       "      <td> 0</td>\n",
       "    </tr>\n",
       "    <tr>\n",
       "      <th>3</th>\n",
       "      <td> 408</td>\n",
       "      <td> 6</td>\n",
       "      <td> 2</td>\n",
       "      <td> 460</td>\n",
       "      <td> 0</td>\n",
       "      <td> 0</td>\n",
       "      <td> 1</td>\n",
       "      <td> 0</td>\n",
       "      <td> 1</td>\n",
       "      <td> 1</td>\n",
       "      <td>...</td>\n",
       "      <td> 0</td>\n",
       "      <td> 0</td>\n",
       "      <td> 0</td>\n",
       "      <td> 1</td>\n",
       "      <td> 0</td>\n",
       "      <td> 0</td>\n",
       "      <td> 0</td>\n",
       "      <td> 0</td>\n",
       "      <td> 0</td>\n",
       "      <td> 0</td>\n",
       "    </tr>\n",
       "    <tr>\n",
       "      <th>4</th>\n",
       "      <td> 409</td>\n",
       "      <td> 6</td>\n",
       "      <td> 2</td>\n",
       "      <td> 670</td>\n",
       "      <td> 0</td>\n",
       "      <td> 0</td>\n",
       "      <td> 0</td>\n",
       "      <td> 0</td>\n",
       "      <td> 1</td>\n",
       "      <td> 1</td>\n",
       "      <td>...</td>\n",
       "      <td> 1</td>\n",
       "      <td> 1</td>\n",
       "      <td> 0</td>\n",
       "      <td> 0</td>\n",
       "      <td> 0</td>\n",
       "      <td> 0</td>\n",
       "      <td> 0</td>\n",
       "      <td> 0</td>\n",
       "      <td> 1</td>\n",
       "      <td> 0</td>\n",
       "    </tr>\n",
       "  </tbody>\n",
       "</table>\n",
       "<p>5 rows × 65 columns</p>\n",
       "</div>"
      ],
      "text/plain": [
       "   team ID  Time Limit  Size  Score  Club_b  Penalty_b  Borrow_b  101  102  \\\n",
       "0      401           6     2    780       0          0         1    0    1   \n",
       "1      405           6     1    500       1          0         0    1    0   \n",
       "2      407           6     1    440       1          0         1    0    0   \n",
       "3      408           6     2    460       0          0         1    0    1   \n",
       "4      409           6     2    670       0          0         0    0    1   \n",
       "\n",
       "   103 ...   149  150  EB6  EM6  EW6  MB6  MM6  MW6  VB6  VM6  \n",
       "0    1 ...     1    1    0    0    0    1    0    0    0    0  \n",
       "1    0 ...     0    0    0    0    0    0    1    0    0    0  \n",
       "2    0 ...     0    0    0    1    0    0    0    0    0    0  \n",
       "3    1 ...     0    0    0    1    0    0    0    0    0    0  \n",
       "4    1 ...     1    1    0    0    0    0    0    0    1    0  \n",
       "\n",
       "[5 rows x 65 columns]"
      ]
     },
     "execution_count": 302,
     "metadata": {},
     "output_type": "execute_result"
    }
   ],
   "source": [
    "model_checkpoints_hour6_df.head()"
   ]
  },
  {
   "cell_type": "code",
   "execution_count": null,
   "metadata": {
    "collapsed": true
   },
   "outputs": [],
   "source": []
  }
 ],
 "metadata": {
  "kernelspec": {
   "display_name": "Python 2",
   "language": "python",
   "name": "python2"
  },
  "language_info": {
   "codemirror_mode": {
    "name": "ipython",
    "version": 2
   },
   "file_extension": ".py",
   "mimetype": "text/x-python",
   "name": "python",
   "nbconvert_exporter": "python",
   "pygments_lexer": "ipython2",
   "version": "2.7.5"
  }
 },
 "nbformat": 4,
 "nbformat_minor": 0
}
