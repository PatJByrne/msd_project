{
 "metadata": {
  "name": ""
 },
 "nbformat": 3,
 "nbformat_minor": 0,
 "worksheets": [
  {
   "cells": [
    {
     "cell_type": "code",
     "collapsed": false,
     "input": [
      "import Graph_dictionary\n",
      "import distance_from_lat_long\n",
      "from collections import OrderedDict\n",
      "team_graph = Graph_dictionary.team_grapher()\n",
      "edge_count = OrderedDict()\n",
      "max_edge = 0\n",
      "for team in team_graph.keys():\n",
      "    course_map = team_graph[team]\n",
      "    for node in course_map[:-1]:\n",
      "        edge = [node.num,node.nxt]\n",
      "        edge.sort()\n",
      "        edge_name = '%d-%d' % (edge[0],edge[1])\n",
      "        if edge_name not in edge_count.keys():\n",
      "            edge_count[edge_name] = 0\n",
      "        edge_count[edge_name] += 1\n",
      "        if edge_count[edge_name] > max_edge:\n",
      "            max_edge = edge_count[edge_name]"
     ],
     "language": "python",
     "metadata": {},
     "outputs": [
      {
       "ename": "AttributeError",
       "evalue": "'module' object has no attribute 'team_grapher'",
       "output_type": "pyerr",
       "traceback": [
        "\u001b[0;31m---------------------------------------------------------------------------\u001b[0m\n\u001b[0;31mAttributeError\u001b[0m                            Traceback (most recent call last)",
        "\u001b[0;32m<ipython-input-15-faba9a3a2e62>\u001b[0m in \u001b[0;36m<module>\u001b[0;34m()\u001b[0m\n\u001b[1;32m      2\u001b[0m \u001b[0;32mimport\u001b[0m \u001b[0mdistance_from_lat_long\u001b[0m\u001b[0;34m\u001b[0m\u001b[0m\n\u001b[1;32m      3\u001b[0m \u001b[0;32mfrom\u001b[0m \u001b[0mcollections\u001b[0m \u001b[0;32mimport\u001b[0m \u001b[0mOrderedDict\u001b[0m\u001b[0;34m\u001b[0m\u001b[0m\n\u001b[0;32m----> 4\u001b[0;31m \u001b[0mteam_graph\u001b[0m \u001b[0;34m=\u001b[0m \u001b[0mGraph_dictionary\u001b[0m\u001b[0;34m.\u001b[0m\u001b[0mteam_grapher\u001b[0m\u001b[0;34m(\u001b[0m\u001b[0;34m)\u001b[0m\u001b[0;34m\u001b[0m\u001b[0m\n\u001b[0m\u001b[1;32m      5\u001b[0m \u001b[0medge_count\u001b[0m \u001b[0;34m=\u001b[0m \u001b[0mOrderedDict\u001b[0m\u001b[0;34m(\u001b[0m\u001b[0;34m)\u001b[0m\u001b[0;34m\u001b[0m\u001b[0m\n\u001b[1;32m      6\u001b[0m \u001b[0mmax_edge\u001b[0m \u001b[0;34m=\u001b[0m \u001b[0;36m0\u001b[0m\u001b[0;34m\u001b[0m\u001b[0m\n",
        "\u001b[0;31mAttributeError\u001b[0m: 'module' object has no attribute 'team_grapher'"
       ]
      }
     ],
     "prompt_number": 15
    },
    {
     "cell_type": "code",
     "collapsed": false,
     "input": [
      "fig = plt.figure()\n",
      "ax = fig.add_subplot(111,aspect = 'equal')\n",
      "(yst,xst,elev) = distance_from_lat_long.point_data(100,'.')\n",
      "\n",
      "for edge in edge_count.keys():\n",
      "    (y1,x1,elev) = distance_from_lat_long.point_data(int(edge.split('-')[0]),'.')\n",
      "    (y2,x2,elev) = distance_from_lat_long.point_data(int(edge.split('-')[1]),'.')\n",
      "\n",
      "    x1 -= xst\n",
      "    x2 -= xst\n",
      "    \n",
      "    y1 -= yst\n",
      "    y2 -= yst\n",
      "    \n",
      "    plt.plot([x1,x2],[y1,y2],'r',linewidth = 1+edge_count[edge]%4,alpha = edge_count[edge]/float(max_edge))\n",
      "    plt.plot([x1,x2],[y1,y2],'ob')"
     ],
     "language": "python",
     "metadata": {},
     "outputs": [],
     "prompt_number": 8
    },
    {
     "cell_type": "code",
     "collapsed": false,
     "input": [
      "for node in team_graph['454'][:-1]:\n",
      "    (y1,x1,elev) = distance_from_lat_long.point_data(node.num,'.')\n",
      "    (y2,x2,elev) = distance_from_lat_long.point_data(node.nxt,'.')\n",
      "\n",
      "    x1 -= xst\n",
      "    x2 -= xst\n",
      "    \n",
      "    y1 -= yst\n",
      "    y2 -= yst\n",
      "    \n",
      "    plt.plot([x1,x2],[y1,y2],'b',linewidth =1,alpha = .5)"
     ],
     "language": "python",
     "metadata": {},
     "outputs": [],
     "prompt_number": 8
    },
    {
     "cell_type": "code",
     "collapsed": false,
     "input": [],
     "language": "python",
     "metadata": {},
     "outputs": []
    }
   ],
   "metadata": {}
  }
 ]
}