{
 "metadata": {
  "name": ""
 },
 "nbformat": 3,
 "nbformat_minor": 0,
 "worksheets": [
  {
   "cells": [
    {
     "cell_type": "code",
     "collapsed": false,
     "input": [
      "import re\n",
      "from collections import OrderedDict\n",
      "import distance_from_lat_long\n",
      "from copy import deepcopy\n",
      "import matplotlib.pyplot as plt\n",
      "%matplotlib inline\n",
      "\n",
      "def split_to_time(splt):\n",
      "    [hr,mn,sc] = splt.split(':')\n",
      "    time = int(hr)*60**2 + int(mn)*60 + int(sc)\n",
      "    return(time)\n",
      "    \n",
      "class Node(object):\n",
      "    def __init__(self,num,prv = None, nxt = None,splt = None,pts = None):\n",
      "        self.num = num\n",
      "        self.time = split_to_time(splt)\n",
      "        self.points = pts\n",
      "        if (prv != None):\n",
      "            self.prv = prv\n",
      "            self.prv_edge = distance_from_lat_long.point_distance(self.num,self.prv)\n",
      "        else: [self.prv,self.prv_edge] = [None,None]\n",
      "            \n",
      "        if (nxt != None):\n",
      "            self.nxt = nxt\n",
      "            self.nxt_edge = distance_from_lat_long.point_distance(self.num,self.nxt)\n",
      "        else: [self.nxt,self.nxt_edge] = [None,None]\n",
      "            \n",
      "    def set_nxt(self,nxt):\n",
      "        self.nxt = nxt\n",
      "        self.nxt_edge = distance_from_lat_long.point_distance(self.num,self.nxt)\n",
      "\n",
      "f = open('Race_data_team_splits_checkpoints.csv','r')\n",
      "lines = f.readlines()[1:]\n",
      "f.close()\n",
      "\n",
      "team_graph = OrderedDict()\n",
      "ST_Node = Node(num =100,splt = '0:0:0')\n",
      "\n",
      "for l in range(len(lines)):\n",
      "    line = re.sub('\\\"','',lines[l])\n",
      "    team = line.strip().split()[0]\n",
      "    splt = line.strip().split(',')[-1]    \n",
      "    point = re.sub('\\)','',re.sub('\\(','',line.strip().split(',')[1]))\n",
      "\n",
      "    if '*' in splt:\n",
      "        print l,line,splt\n",
      "        continue\n",
      "    if point == 'F':\n",
      "        point = 100\n",
      "   \n",
      "    elif point == 'NA':\n",
      "        print l,line\n",
      "        continue\n",
      "        \n",
      "    else: \n",
      "        point = int(point)\n",
      "    \n",
      "    pts = 10+((point-101)//10)*10\n",
      "    if (team not in team_graph.keys()):\n",
      "        team_graph[team] = []\n",
      "        ST_Node.set_nxt(point)\n",
      "        team_graph[team].append(deepcopy(ST_Node))\n",
      "        prv_Node = ST_Node\n",
      "\n",
      "    else:\n",
      "        prv_Node = team_graph[team][-1]\n",
      "        prv_Node.set_nxt(point)\n",
      "    \n",
      "    team_graph[team].append(Node(point, prv = prv_Node.num,splt = splt,pts = pts))\n"
     ],
     "language": "python",
     "metadata": {},
     "outputs": [
      {
       "output_type": "stream",
       "stream": "stdout",
       "text": [
        "79 288 Fox River,NA,NA,NA\n",
        "\n",
        "106 279 Jonestown,(140),1:09:51,*140\n",
        "*140\n"
       ]
      }
     ],
     "prompt_number": 82
    },
    {
     "cell_type": "code",
     "collapsed": false,
     "input": [
      "print(team_graph.keys())"
     ],
     "language": "python",
     "metadata": {},
     "outputs": [
      {
       "output_type": "stream",
       "stream": "stdout",
       "text": [
        "['285', '286', '275', '446', '287', '281', '276', '290', '295', '293', '288', '291', '279', '278', '289', '292', '277', '280', '284', '452', '438', '406', '435', '422', '450', '415', '408', '407', '433', '444', '445', '427', '423', '416', '459', '410', '455', '419', '418', '454', '448', '447', '443', '434', '429', '412', '420', '440', '426', '458', '430', '451', '437', '436', '405', '428', '457', '411', '413', '414', '401', '431', '453', '442', '432', '456', '421', '417', '409', '439']\n"
       ]
      }
     ],
     "prompt_number": 83
    },
    {
     "cell_type": "code",
     "collapsed": false,
     "input": [
      "sec_pt = 0\n",
      "for n,node in enumerate(team_graph['454']):\n",
      "    print node.num, node.prv_edge,node.nxt_edge,node.time,node.points\n",
      "    if node.num != 100:\n",
      "        plt.plot(n,(float(node.time)/float(node.points))**-1,'o')\n",
      "        sec_pt += node.time/float(node.points)\n",
      "print sec_pt\n"
     ],
     "language": "python",
     "metadata": {},
     "outputs": [
      {
       "output_type": "stream",
       "stream": "stdout",
       "text": [
        "100 None 434.385373597 0 None\n",
        "105 434.385373597 1278.52699225 1043 10\n",
        "126 1278.52699225 235.731783291 1396 30\n",
        "143 235.731783291 536.756031409 1607 50\n",
        "103 536.756031409 599.76621477 1959 10\n",
        "132 599.76621477 563.495701593 999 40\n",
        "127 563.495701593 661.867054256 1472 30\n",
        "137 661.867054256 17.2258728755 1828 40\n",
        "140 17.2258728755 945.550843876 500 40\n",
        "149 945.550843876 314.553609863 1696 50\n",
        "138 314.553609863 252.910367928 1134 40\n",
        "150 252.910367928 873.922827403 1620 50\n",
        "139 873.922827403 863.142787738 1139 40\n",
        "133 863.142787738 209.455271082 1514 40\n",
        "119 209.455271082 1141.67560972 697 20\n",
        "106 1141.67560972 109.734432815 1727 10\n",
        "109 109.734432815 100.665698557 282 10\n",
        "111 100.665698557 164.148160913 199 20\n",
        "100 164.148160913 None 142 0\n",
        "917.81\n"
       ]
      },
      {
       "metadata": {},
       "output_type": "display_data",
       "png": "[encoded data removed]",
       "text": [
        "<matplotlib.figure.Figure at 0x7f665f7d4b50>"
       ]
      }
     ],
     "prompt_number": 92
    },
    {
     "cell_type": "code",
     "collapsed": false,
     "input": [
      "print '#  ','<-time','->time','pts'\n",
      "sec_pt = 0\n",
      "for n,node in enumerate(team_graph['439']):\n",
      "    print node.num,node.prv_edge,node.nxt_edge,node.time\n",
      "    if node.num != 100:\n",
      "        plt.plot(n,node.time/float(node.points),'o')\n",
      "        plt.ylim(0,200)\n",
      "        sec_pt += node.time/float(node.points)\n",
      "print sec_pt"
     ],
     "language": "python",
     "metadata": {},
     "outputs": [
      {
       "output_type": "stream",
       "stream": "stdout",
       "text": [
        "#   <-time ->time pts\n",
        "100 None 63.4823721644 0\n",
        "109 63.4823721644 236.702566855 214\n",
        "107 236.702566855 565.93994627 330\n",
        "117 565.93994627 471.619734492 971\n",
        "118 471.619734492 870.60510472 357\n",
        "104 870.60510472 308.327567185 1194\n",
        "129 308.327567185 391.755786099 1974\n",
        "131 391.755786099 628.39857463 3150\n",
        "119 628.39857463 209.455271082 1339\n",
        "133 209.455271082 863.142787738 867\n",
        "139 863.142787738 873.922827403 735\n",
        "150 873.922827403 199.433377444 1321\n",
        "130 199.433377444 452.343136787 740\n",
        "138 452.343136787 314.553609863 913\n",
        "149 314.553609863 1061.15162462 1266\n",
        "132 1061.15162462 563.495701593 1015\n",
        "127 563.495701593 90.672042509 976\n",
        "128 90.672042509 1311.2330709 1401\n",
        "106 1311.2330709 46.2520452036 2226\n",
        "100 46.2520452036 None 405\n",
        "918.19\n"
       ]
      },
      {
       "metadata": {},
       "output_type": "display_data",
       "png": "[encoded data removed]",
       "text": [
        "<matplotlib.figure.Figure at 0x7f664d068190>"
       ]
      }
     ],
     "prompt_number": 91
    },
    {
     "cell_type": "code",
     "collapsed": false,
     "input": [
      "for node in team_graph['275']:\n",
      "    print node.num,node.prv_edge,node.nxt_edge,node.time"
     ],
     "language": "python",
     "metadata": {},
     "outputs": [
      {
       "output_type": "stream",
       "stream": "stdout",
       "text": [
        "151 None 63.4823721644 0\n",
        "109 63.4823721644 109.734432815 147\n",
        "106 109.734432815 440.757707213 314\n",
        "118 440.757707213 870.60510472 559\n",
        "104 870.60510472 308.327567185 1506\n",
        "129 308.327567185 1229.61038262 1189\n",
        "133 1229.61038262 39.8961333904 3486\n",
        "128 39.8961333904 1357.48488485 1445\n",
        "151 1357.48488485 None 1850\n"
       ]
      }
     ],
     "prompt_number": 60
    },
    {
     "cell_type": "code",
     "collapsed": false,
     "input": [
      "for node in team_graph['439']:\n",
      "    print node.num,node.prv_edge,node.nxt_edge,node.time"
     ],
     "language": "python",
     "metadata": {},
     "outputs": [
      {
       "output_type": "stream",
       "stream": "stdout",
       "text": [
        "151 None 63.4823721644 0\n",
        "109 63.4823721644 236.702566855 214\n",
        "107 236.702566855 565.93994627 330\n",
        "117 565.93994627 471.619734492 971\n",
        "118 471.619734492 870.60510472 357\n",
        "104 870.60510472 308.327567185 1194\n",
        "129 308.327567185 391.755786099 1974\n",
        "131 391.755786099 628.39857463 3150\n",
        "119 628.39857463 209.455271082 1339\n",
        "133 209.455271082 863.142787738 867\n",
        "139 863.142787738 873.922827403 735\n",
        "150 873.922827403 199.433377444 1321\n",
        "130 199.433377444 452.343136787 740\n",
        "138 452.343136787 314.553609863 913\n",
        "149 314.553609863 1061.15162462 1266\n",
        "132 1061.15162462 563.495701593 1015\n",
        "127 563.495701593 90.672042509 976\n",
        "128 90.672042509 1311.2330709 1401\n",
        "106 1311.2330709 46.2520452036 2226\n",
        "151 46.2520452036 None 405\n"
       ]
      }
     ],
     "prompt_number": 61
    },
    {
     "cell_type": "code",
     "collapsed": false,
     "input": [
      "for node in team_graph['409']:\n",
      "    print node.num,node.prv_edge,node.nxt_edge,node.time"
     ],
     "language": "python",
     "metadata": {},
     "outputs": [
      {
       "output_type": "stream",
       "stream": "stdout",
       "text": [
        "151 None 63.4823721644 0\n",
        "110 320.122783481 371.799411749 493\n",
        "141 371.799411749 382.660423503 892\n",
        "102 382.660423503 638.330401912 1035\n",
        "126 638.330401912 235.731783291 1087\n",
        "143 235.731783291 536.756031409 734\n",
        "103 536.756031409 599.76621477 1346\n",
        "132 599.76621477 563.495701593 977\n",
        "127 563.495701593 679.094242729 1067\n",
        "140 679.094242729 17.2258728755 868\n",
        "137 17.2258728755 962.778601833 459\n",
        "149 962.778601833 314.553609863 1714\n",
        "138 314.553609863 452.343136787 1113\n",
        "130 452.343136787 199.433377444 953\n",
        "150 199.433377444 873.922827403 822\n",
        "139 873.922827403 14.5053101466 989\n",
        "142 14.5053101466 848.638332162 915\n",
        "133 848.638332162 837.854634907 2153\n",
        "131 837.854634907 513.276618279 1278\n",
        "106 513.276618279 109.734432815 2056\n",
        "109 109.734432815 63.4823721644 370\n",
        "151 63.4823721644 None 167\n"
       ]
      }
     ],
     "prompt_number": 62
    },
    {
     "cell_type": "code",
     "collapsed": false,
     "input": [],
     "language": "python",
     "metadata": {},
     "outputs": []
    }
   ],
   "metadata": {}
  }
 ]
}