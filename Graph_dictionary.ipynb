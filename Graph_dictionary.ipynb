{
 "cells": [
  {
   "cell_type": "code",
   "execution_count": 3,
   "metadata": {
    "collapsed": false
   },
   "outputs": [],
   "source": [
    "import re\n",
    "from collections import OrderedDict\n",
    "import distance_from_lat_long\n",
    "from copy import deepcopy\n",
    "import matplotlib.pyplot as plt\n",
    "#%matplotlib inline\n",
    "\n",
    "def split_to_time(splt):\n",
    "    [hr,mn,sc] = splt.split(':')\n",
    "    time = int(hr)*60**2 + int(mn)*60 + int(sc)\n",
    "    return(time)\n",
    "    \n",
    "class Node(object):\n",
    "    def __init__(self,num,prv = None, nxt = None,splt = None,pts = None):\n",
    "        self.num = num\n",
    "        self.time = split_to_time(splt)\n",
    "        self.points = pts\n",
    "        if (prv != None):\n",
    "            self.prv = prv\n",
    "            self.prv_edge = distance_from_lat_long.point_distance_pixel(self.num,self.prv)\n",
    "        else: [self.prv,self.prv_edge] = [None,None]\n",
    "            \n",
    "        if (nxt != None):\n",
    "            self.nxt = nxt\n",
    "            self.nxt_edge = distance_from_lat_long.point_distance_pixel(self.num,self.nxt)\n",
    "        else: [self.nxt,self.nxt_edge] = [None,None]\n",
    "            \n",
    "    def set_nxt(self,nxt):\n",
    "        self.nxt = nxt\n",
    "        #print self.num, self.nxt\n",
    "        self.nxt_edge = distance_from_lat_long.point_distance_pixel(self.num,self.nxt)\n",
    "        \n",
    "def team_grapher():\n",
    "    f = open('Race_data_team_splits_checkpoints.csv','r')\n",
    "    lines = f.readlines()[1:]\n",
    "    f.close()\n",
    "\n",
    "    team_graph = OrderedDict()\n",
    "    ST_Node = Node(num =100,splt = '0:0:0')\n",
    "\n",
    "    for l in range(len(lines)):\n",
    "        line = re.sub('\\\"','',lines[l])\n",
    "        team = line.strip().split()[0]\n",
    "        splt = line.strip().split(',')[-1]    \n",
    "        point = re.sub('\\)','',re.sub('\\(','',line.strip().split(',')[1]))\n",
    "\n",
    "        if '*' in splt:\n",
    "            continue\n",
    "        \n",
    "        if point == 'F':\n",
    "            point = 100\n",
    "   \n",
    "        elif point == 'NA':\n",
    "            continue\n",
    "        \n",
    "        else: \n",
    "            point = int(point)\n",
    "    \n",
    "        pts = 10+((point-101)//10)*10\n",
    "        \n",
    "        if (team not in team_graph.keys()):\n",
    "            team_graph[team] = []\n",
    "            ST_Node.set_nxt(point)\n",
    "            team_graph[team].append(deepcopy(ST_Node))\n",
    "            prv_Node = ST_Node\n",
    "\n",
    "        else:\n",
    "            prv_Node = team_graph[team][-1]\n",
    "            prv_Node.set_nxt(point)\n",
    "    \n",
    "        team_graph[team].append(Node(point, prv = prv_Node.num,splt = splt,pts = pts))\n",
    "    return(team_graph)\n"
   ]
  },
  {
   "cell_type": "code",
   "execution_count": 4,
   "metadata": {
    "collapsed": false
   },
   "outputs": [],
   "source": [
    "#sec_pt = 0\n",
    "#for n,node in enumerate(team_graph['454']):\n",
    "#    print node.num, node.prv_edge,node.nxt_edge,node.time,node.points\n",
    "#    if node.num != 100:\n",
    "#        plt.plot(n,(float(node.time)/float(node.points))**-1,'o')\n",
    "#        sec_pt += node.time/float(node.points)\n",
    "#print sec_pt\n"
   ]
  },
  {
   "cell_type": "code",
   "execution_count": 4,
   "metadata": {
    "collapsed": false
   },
   "outputs": [],
   "source": [
    "#print '#  ','<-time','->time','pts'\n",
    "#sec_pt = 0\n",
    "#for n,node in enumerate(team_graph['439']):\n",
    "#    print node.num,node.prv_edge,node.nxt_edge,node.time\n",
    "#    if node.num != 100:\n",
    "#        plt.plot(n,node.time/float(node.points),'o')\n",
    "#        plt.ylim(0,200)\n",
    "#        sec_pt += node.time/float(node.points)\n",
    "#print sec_pt"
   ]
  },
  {
   "cell_type": "code",
   "execution_count": 5,
   "metadata": {
    "collapsed": false
   },
   "outputs": [],
   "source": [
    "#for node in team_graph['275']:\n",
    "#    print node.num,node.prv_edge,node.nxt_edge,node.time"
   ]
  },
  {
   "cell_type": "code",
   "execution_count": 6,
   "metadata": {
    "collapsed": false
   },
   "outputs": [],
   "source": [
    "#for node in team_graph['439']:\n",
    "#    print node.num,node.prv_edge,node.nxt_edge,node.time"
   ]
  },
  {
   "cell_type": "code",
   "execution_count": 7,
   "metadata": {
    "collapsed": false
   },
   "outputs": [],
   "source": [
    "#for node in team_graph['409']:\n",
    "#    print node.num,node.prv_edge,node.nxt_edge,node.time"
   ]
  },
  {
   "cell_type": "code",
   "execution_count": null,
   "metadata": {
    "collapsed": false
   },
   "outputs": [],
   "source": []
  }
 ],
 "metadata": {
  "kernelspec": {
   "display_name": "Python 2",
   "language": "python",
   "name": "python2"
  },
  "language_info": {
   "codemirror_mode": {
    "name": "ipython",
    "version": 2
   },
   "file_extension": ".py",
   "mimetype": "text/x-python",
   "name": "python",
   "nbconvert_exporter": "python",
   "pygments_lexer": "ipython2",
   "version": "2.7.6"
  }
 },
 "nbformat": 4,
 "nbformat_minor": 0
}
