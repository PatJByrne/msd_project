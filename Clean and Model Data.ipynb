{
 "cells": [
  {
   "cell_type": "markdown",
   "metadata": {},
   "source": [
    "This notebook takes csv's that contain data that was scraped from the orienteering website and cleans it to prepare it for a model."
   ]
  },
  {
   "cell_type": "code",
   "execution_count": 1,
   "metadata": {
    "collapsed": false
   },
   "outputs": [],
   "source": [
    "%load_ext autoreload\n",
    "%autoreload 2\n",
    "%matplotlib inline"
   ]
  },
  {
   "cell_type": "code",
   "execution_count": 2,
   "metadata": {
    "collapsed": true
   },
   "outputs": [],
   "source": [
    "from __future__ import print_function\n",
    "import csv as csv\n",
    "import numpy as np\n",
    "import pandas as pd\n",
    "import matplotlib.pyplot as plt\n",
    "#mpl.rcParams.update({'axes.labelsize': 20})\n",
    "import copy\n",
    "import re"
   ]
  },
  {
   "cell_type": "markdown",
   "metadata": {},
   "source": [
    "### Import and begin preparing in pandas"
   ]
  },
  {
   "cell_type": "markdown",
   "metadata": {},
   "source": [
    "We start by importing the csv with the scraped data from the orienteering website and putting it in multiple pandas dataframes."
   ]
  },
  {
   "cell_type": "code",
   "execution_count": 3,
   "metadata": {
    "collapsed": true
   },
   "outputs": [],
   "source": [
    "route_df = pd.read_csv('Race_data_team_splits_checkpoints.csv', header=0)"
   ]
  },
  {
   "cell_type": "code",
   "execution_count": 4,
   "metadata": {
    "collapsed": false
   },
   "outputs": [],
   "source": [
    "route_df['team ID'] = route_df['Name'].map(lambda x: int(x[:3]))\n",
    "route_df['Team Name'] = route_df['Name'].map(lambda x: x[4:].strip())\n",
    "route_df['Checkpoint'] = route_df['Checkpoint'].str.replace(r\"\\(\",\"\")\n",
    "route_df['Checkpoint'] = route_df['Checkpoint'].str.replace(r\"\\)\",\"\")\n",
    "route_df.columns = ['Name', 'Checkpoint', 'Total Time', 'Split', 'team ID', 'Team Name']\n",
    "route_df = route_df.drop('Name', 1)"
   ]
  },
  {
   "cell_type": "code",
   "execution_count": 5,
   "metadata": {
    "collapsed": true
   },
   "outputs": [],
   "source": [
    "cols = route_df.columns.tolist()\n",
    "cols = cols[-2:] + cols[:-2]\n",
    "route_df = route_df[cols]"
   ]
  },
  {
   "cell_type": "code",
   "execution_count": 6,
   "metadata": {
    "collapsed": true
   },
   "outputs": [],
   "source": [
    "route_df.to_csv('clean_data/team_routes.csv')"
   ]
  },
  {
   "cell_type": "code",
   "execution_count": 7,
   "metadata": {
    "collapsed": false
   },
   "outputs": [
    {
     "data": {
      "text/html": [
       "<div style=\"max-height:1000px;max-width:1500px;overflow:auto;\">\n",
       "<table border=\"1\" class=\"dataframe\">\n",
       "  <thead>\n",
       "    <tr style=\"text-align: right;\">\n",
       "      <th></th>\n",
       "      <th>team ID</th>\n",
       "      <th>Team Name</th>\n",
       "      <th>Checkpoint</th>\n",
       "      <th>Total Time</th>\n",
       "      <th>Split</th>\n",
       "    </tr>\n",
       "  </thead>\n",
       "  <tbody>\n",
       "    <tr>\n",
       "      <th>0</th>\n",
       "      <td> 285</td>\n",
       "      <td> NimKik Skulls</td>\n",
       "      <td> 105</td>\n",
       "      <td> 0:13:04</td>\n",
       "      <td> 0:13:04</td>\n",
       "    </tr>\n",
       "    <tr>\n",
       "      <th>1</th>\n",
       "      <td> 285</td>\n",
       "      <td> NimKik Skulls</td>\n",
       "      <td> 126</td>\n",
       "      <td> 0:27:33</td>\n",
       "      <td> 0:14:29</td>\n",
       "    </tr>\n",
       "    <tr>\n",
       "      <th>2</th>\n",
       "      <td> 285</td>\n",
       "      <td> NimKik Skulls</td>\n",
       "      <td> 143</td>\n",
       "      <td> 0:45:17</td>\n",
       "      <td> 0:17:44</td>\n",
       "    </tr>\n",
       "    <tr>\n",
       "      <th>3</th>\n",
       "      <td> 285</td>\n",
       "      <td> NimKik Skulls</td>\n",
       "      <td> 103</td>\n",
       "      <td> 1:11:47</td>\n",
       "      <td> 0:26:30</td>\n",
       "    </tr>\n",
       "    <tr>\n",
       "      <th>4</th>\n",
       "      <td> 285</td>\n",
       "      <td> NimKik Skulls</td>\n",
       "      <td> 132</td>\n",
       "      <td> 1:26:53</td>\n",
       "      <td> 0:15:06</td>\n",
       "    </tr>\n",
       "  </tbody>\n",
       "</table>\n",
       "</div>"
      ],
      "text/plain": [
       "   team ID      Team Name Checkpoint Total Time    Split\n",
       "0      285  NimKik Skulls        105    0:13:04  0:13:04\n",
       "1      285  NimKik Skulls        126    0:27:33  0:14:29\n",
       "2      285  NimKik Skulls        143    0:45:17  0:17:44\n",
       "3      285  NimKik Skulls        103    1:11:47  0:26:30\n",
       "4      285  NimKik Skulls        132    1:26:53  0:15:06"
      ]
     },
     "execution_count": 7,
     "metadata": {},
     "output_type": "execute_result"
    }
   ],
   "source": [
    "route_df.head()"
   ]
  },
  {
   "cell_type": "code",
   "execution_count": 8,
   "metadata": {
    "collapsed": true
   },
   "outputs": [],
   "source": [
    "team_df = pd.read_csv('registration_list.csv', header=0)\n",
    "score_df = pd.read_csv('Team_place_time_score.csv', header=None)"
   ]
  },
  {
   "cell_type": "markdown",
   "metadata": {},
   "source": [
    "Below, the 'Team Name' is stripped of spaces because they cause problems with search in Pandas."
   ]
  },
  {
   "cell_type": "code",
   "execution_count": 9,
   "metadata": {
    "collapsed": false
   },
   "outputs": [],
   "source": [
    "team_df['test'] = team_df['Team Name'].map(lambda x: ''.join(x.split(' ')).strip())"
   ]
  },
  {
   "cell_type": "code",
   "execution_count": 10,
   "metadata": {
    "collapsed": false
   },
   "outputs": [],
   "source": [
    "score_df.columns = ['Rank', 'Name', 'Class', 'Club', 'Time', 'Score', 'Gross Score', 'Penalty', 'time_limit']"
   ]
  },
  {
   "cell_type": "code",
   "execution_count": 11,
   "metadata": {
    "collapsed": false
   },
   "outputs": [],
   "source": [
    "# Split the team into team ID and Team Name\n",
    "score_df['team ID'] = score_df['Name'].map(lambda x: int(x[:3]))\n",
    "score_df['Team Name'] = score_df['Name'].map(lambda x: x[4:].strip())\n",
    "# Strip the Team Name to make a column that is searchable without spaces\n",
    "score_df['test'] = score_df['Team Name'].map(lambda x: ''.join(x.split(' ')).strip())"
   ]
  },
  {
   "cell_type": "code",
   "execution_count": 12,
   "metadata": {
    "collapsed": false
   },
   "outputs": [
    {
     "data": {
      "text/html": [
       "<div style=\"max-height:1000px;max-width:1500px;overflow:auto;\">\n",
       "<table border=\"1\" class=\"dataframe\">\n",
       "  <thead>\n",
       "    <tr style=\"text-align: right;\">\n",
       "      <th></th>\n",
       "      <th>Rank</th>\n",
       "      <th>Time</th>\n",
       "      <th>Score</th>\n",
       "      <th>Gross Score</th>\n",
       "      <th>Penalty</th>\n",
       "      <th>time_limit</th>\n",
       "      <th>team ID</th>\n",
       "    </tr>\n",
       "  </thead>\n",
       "  <tbody>\n",
       "    <tr>\n",
       "      <th>count</th>\n",
       "      <td> 71.000</td>\n",
       "      <td>  0</td>\n",
       "      <td>   73.0000</td>\n",
       "      <td>   73.0000</td>\n",
       "      <td>  73.0000</td>\n",
       "      <td> 73.0000</td>\n",
       "      <td>  73.0000</td>\n",
       "    </tr>\n",
       "    <tr>\n",
       "      <th>mean</th>\n",
       "      <td> 21.831</td>\n",
       "      <td>NaN</td>\n",
       "      <td>  466.8493</td>\n",
       "      <td>  493.1507</td>\n",
       "      <td>  26.3014</td>\n",
       "      <td>  5.2192</td>\n",
       "      <td> 393.9452</td>\n",
       "    </tr>\n",
       "    <tr>\n",
       "      <th>std</th>\n",
       "      <td> 15.145</td>\n",
       "      <td>NaN</td>\n",
       "      <td>  294.0279</td>\n",
       "      <td>  261.1560</td>\n",
       "      <td>  89.5282</td>\n",
       "      <td>  1.3255</td>\n",
       "      <td>  64.7540</td>\n",
       "    </tr>\n",
       "    <tr>\n",
       "      <th>min</th>\n",
       "      <td>  1.000</td>\n",
       "      <td>NaN</td>\n",
       "      <td> -220.0000</td>\n",
       "      <td>   20.0000</td>\n",
       "      <td>   0.0000</td>\n",
       "      <td>  3.0000</td>\n",
       "      <td> 275.0000</td>\n",
       "    </tr>\n",
       "    <tr>\n",
       "      <th>25%</th>\n",
       "      <td>  9.500</td>\n",
       "      <td>NaN</td>\n",
       "      <td>  260.0000</td>\n",
       "      <td>  300.0000</td>\n",
       "      <td>   0.0000</td>\n",
       "      <td>  3.0000</td>\n",
       "      <td> 401.0000</td>\n",
       "    </tr>\n",
       "    <tr>\n",
       "      <th>50%</th>\n",
       "      <td> 17.000</td>\n",
       "      <td>NaN</td>\n",
       "      <td>  520.0000</td>\n",
       "      <td>  520.0000</td>\n",
       "      <td>   0.0000</td>\n",
       "      <td>  6.0000</td>\n",
       "      <td> 419.0000</td>\n",
       "    </tr>\n",
       "    <tr>\n",
       "      <th>75%</th>\n",
       "      <td> 34.500</td>\n",
       "      <td>NaN</td>\n",
       "      <td>  710.0000</td>\n",
       "      <td>  710.0000</td>\n",
       "      <td>   0.0000</td>\n",
       "      <td>  6.0000</td>\n",
       "      <td> 439.0000</td>\n",
       "    </tr>\n",
       "    <tr>\n",
       "      <th>max</th>\n",
       "      <td> 53.000</td>\n",
       "      <td>NaN</td>\n",
       "      <td> 1170.0000</td>\n",
       "      <td> 1200.0000</td>\n",
       "      <td> 510.0000</td>\n",
       "      <td>  6.0000</td>\n",
       "      <td> 459.0000</td>\n",
       "    </tr>\n",
       "  </tbody>\n",
       "</table>\n",
       "</div>"
      ],
      "text/plain": [
       "         Rank  Time      Score  Gross Score   Penalty  time_limit   team ID\n",
       "count  71.000     0    73.0000      73.0000   73.0000     73.0000   73.0000\n",
       "mean   21.831   NaN   466.8493     493.1507   26.3014      5.2192  393.9452\n",
       "std    15.145   NaN   294.0279     261.1560   89.5282      1.3255   64.7540\n",
       "min     1.000   NaN  -220.0000      20.0000    0.0000      3.0000  275.0000\n",
       "25%     9.500   NaN   260.0000     300.0000    0.0000      3.0000  401.0000\n",
       "50%    17.000   NaN   520.0000     520.0000    0.0000      6.0000  419.0000\n",
       "75%    34.500   NaN   710.0000     710.0000    0.0000      6.0000  439.0000\n",
       "max    53.000   NaN  1170.0000    1200.0000  510.0000      6.0000  459.0000"
      ]
     },
     "execution_count": 12,
     "metadata": {},
     "output_type": "execute_result"
    }
   ],
   "source": [
    "score_df.describe()"
   ]
  },
  {
   "cell_type": "markdown",
   "metadata": {},
   "source": [
    "### Merge datasets to build team information"
   ]
  },
  {
   "cell_type": "markdown",
   "metadata": {},
   "source": [
    "Next, we merge the dataset with the team information with their score.  Since the team ID is not included in the team information, we need to merge based on the team name.  We use the column where spaces are removed from the team name, called 'test', because Pandas does not match names with spaces.  Afterwards, we have a dataframe with team information and their score."
   ]
  },
  {
   "cell_type": "code",
   "execution_count": 13,
   "metadata": {
    "collapsed": false
   },
   "outputs": [],
   "source": [
    "test_df = pd.merge(team_df, score_df, on='test', how='right')"
   ]
  },
  {
   "cell_type": "code",
   "execution_count": 14,
   "metadata": {
    "collapsed": true
   },
   "outputs": [],
   "source": [
    "# Not all of the merges worked, so need to manually enter some data.\n",
    "test_df.loc[test_df['team ID'] == 459, 'Borrow'] = 'Y'\n",
    "test_df.loc[test_df['team ID'] == 459, 'Size'] = 4\n",
    "test_df.loc[test_df['team ID'] == 286, 'Borrow'] = 'Y'\n",
    "test_df.loc[test_df['team ID'] == 286, 'Size'] = 5\n",
    "test_df.loc[test_df['team ID'] == 276, 'Borrow'] = 'Y'\n",
    "test_df.loc[test_df['team ID'] == 276, 'Size'] = 2"
   ]
  },
  {
   "cell_type": "code",
   "execution_count": 15,
   "metadata": {
    "collapsed": false
   },
   "outputs": [],
   "source": [
    "test_df = test_df[test_df['Size'].notnull()]"
   ]
  },
  {
   "cell_type": "code",
   "execution_count": 16,
   "metadata": {
    "collapsed": true
   },
   "outputs": [],
   "source": [
    "test_df = test_df.drop('Team Name_x', 1)\n",
    "test_df = test_df.drop('time_limit_x', 1)\n",
    "test_df = test_df.drop('Name', 1)\n",
    "test_df = test_df.rename(columns={'Team Name_y': 'Team Name', 'time_limit_y': 'Time Limit'})"
   ]
  },
  {
   "cell_type": "code",
   "execution_count": 17,
   "metadata": {
    "collapsed": false
   },
   "outputs": [
    {
     "data": {
      "text/html": [
       "<div style=\"max-height:1000px;max-width:1500px;overflow:auto;\">\n",
       "<table border=\"1\" class=\"dataframe\">\n",
       "  <thead>\n",
       "    <tr style=\"text-align: right;\">\n",
       "      <th></th>\n",
       "      <th>Category</th>\n",
       "      <th>Size</th>\n",
       "      <th>Borrow</th>\n",
       "      <th>test</th>\n",
       "      <th>Rank</th>\n",
       "      <th>Class</th>\n",
       "      <th>Club</th>\n",
       "      <th>Time</th>\n",
       "      <th>Score</th>\n",
       "      <th>Gross Score</th>\n",
       "      <th>Penalty</th>\n",
       "      <th>Time Limit</th>\n",
       "      <th>team ID</th>\n",
       "      <th>Team Name</th>\n",
       "    </tr>\n",
       "  </thead>\n",
       "  <tbody>\n",
       "    <tr>\n",
       "      <th>0</th>\n",
       "      <td> Masters, Mixed</td>\n",
       "      <td> 2</td>\n",
       "      <td> Y</td>\n",
       "      <td> BeeRingers</td>\n",
       "      <td> 10</td>\n",
       "      <td> MB6</td>\n",
       "      <td>  NaN</td>\n",
       "      <td>NaN</td>\n",
       "      <td> 780</td>\n",
       "      <td> 780</td>\n",
       "      <td>   0</td>\n",
       "      <td> 6</td>\n",
       "      <td> 401</td>\n",
       "      <td>   BeeRingers</td>\n",
       "    </tr>\n",
       "    <tr>\n",
       "      <th>1</th>\n",
       "      <td>   Masters, Men</td>\n",
       "      <td> 2</td>\n",
       "      <td> Y</td>\n",
       "      <td> HighandDry</td>\n",
       "      <td>NaN</td>\n",
       "      <td> MM6</td>\n",
       "      <td>  NaN</td>\n",
       "      <td>NaN</td>\n",
       "      <td> 400</td>\n",
       "      <td> 400</td>\n",
       "      <td>   0</td>\n",
       "      <td> 6</td>\n",
       "      <td> 403</td>\n",
       "      <td> High and Dry</td>\n",
       "    </tr>\n",
       "    <tr>\n",
       "      <th>2</th>\n",
       "      <td>   Masters, Men</td>\n",
       "      <td> 2</td>\n",
       "      <td> Y</td>\n",
       "      <td> HighandDry</td>\n",
       "      <td> 53</td>\n",
       "      <td> MM6</td>\n",
       "      <td>  NaN</td>\n",
       "      <td>NaN</td>\n",
       "      <td>-180</td>\n",
       "      <td> 330</td>\n",
       "      <td> 510</td>\n",
       "      <td> 6</td>\n",
       "      <td> 403</td>\n",
       "      <td> High and Dry</td>\n",
       "    </tr>\n",
       "    <tr>\n",
       "      <th>3</th>\n",
       "      <td> Masters, Mixed</td>\n",
       "      <td> 2</td>\n",
       "      <td> N</td>\n",
       "      <td>  TeamSpang</td>\n",
       "      <td>NaN</td>\n",
       "      <td> MB6</td>\n",
       "      <td> WPOC</td>\n",
       "      <td>NaN</td>\n",
       "      <td> 790</td>\n",
       "      <td> 790</td>\n",
       "      <td>   0</td>\n",
       "      <td> 6</td>\n",
       "      <td> 404</td>\n",
       "      <td>   Team Spang</td>\n",
       "    </tr>\n",
       "    <tr>\n",
       "      <th>4</th>\n",
       "      <td>   Masters, Men</td>\n",
       "      <td> 1</td>\n",
       "      <td> N</td>\n",
       "      <td>  YakiBarak</td>\n",
       "      <td> 37</td>\n",
       "      <td> MM6</td>\n",
       "      <td> WPOC</td>\n",
       "      <td>NaN</td>\n",
       "      <td> 500</td>\n",
       "      <td> 500</td>\n",
       "      <td>   0</td>\n",
       "      <td> 6</td>\n",
       "      <td> 405</td>\n",
       "      <td> Yaki   Barak</td>\n",
       "    </tr>\n",
       "  </tbody>\n",
       "</table>\n",
       "</div>"
      ],
      "text/plain": [
       "         Category  Size Borrow        test  Rank Class  Club  Time  Score  \\\n",
       "0  Masters, Mixed     2      Y  BeeRingers    10   MB6   NaN   NaN    780   \n",
       "1    Masters, Men     2      Y  HighandDry   NaN   MM6   NaN   NaN    400   \n",
       "2    Masters, Men     2      Y  HighandDry    53   MM6   NaN   NaN   -180   \n",
       "3  Masters, Mixed     2      N   TeamSpang   NaN   MB6  WPOC   NaN    790   \n",
       "4    Masters, Men     1      N   YakiBarak    37   MM6  WPOC   NaN    500   \n",
       "\n",
       "   Gross Score  Penalty  Time Limit  team ID     Team Name  \n",
       "0          780        0           6      401    BeeRingers  \n",
       "1          400        0           6      403  High and Dry  \n",
       "2          330      510           6      403  High and Dry  \n",
       "3          790        0           6      404    Team Spang  \n",
       "4          500        0           6      405  Yaki   Barak  "
      ]
     },
     "execution_count": 17,
     "metadata": {},
     "output_type": "execute_result"
    }
   ],
   "source": [
    "test_df.head()"
   ]
  },
  {
   "cell_type": "code",
   "execution_count": 18,
   "metadata": {
    "collapsed": false
   },
   "outputs": [],
   "source": [
    "# The following reorganizes the order of the columns\n",
    "cols = test_df.columns.tolist()\n",
    "cols = cols[-2:] + cols[:-2]\n",
    "temp = cols[-4]\n",
    "del cols[-4]\n",
    "cols.append(temp)\n",
    "temp = cols[-2]\n",
    "del cols[-2]\n",
    "cols.insert(2, temp)\n",
    "test_df = test_df[cols]"
   ]
  },
  {
   "cell_type": "code",
   "execution_count": 19,
   "metadata": {
    "collapsed": false
   },
   "outputs": [
    {
     "data": {
      "text/html": [
       "<div style=\"max-height:1000px;max-width:1500px;overflow:auto;\">\n",
       "<table border=\"1\" class=\"dataframe\">\n",
       "  <thead>\n",
       "    <tr style=\"text-align: right;\">\n",
       "      <th></th>\n",
       "      <th>team ID</th>\n",
       "      <th>Team Name</th>\n",
       "      <th>Time Limit</th>\n",
       "      <th>Category</th>\n",
       "      <th>Size</th>\n",
       "      <th>Borrow</th>\n",
       "      <th>test</th>\n",
       "      <th>Rank</th>\n",
       "      <th>Class</th>\n",
       "      <th>Club</th>\n",
       "      <th>Time</th>\n",
       "      <th>Gross Score</th>\n",
       "      <th>Penalty</th>\n",
       "      <th>Score</th>\n",
       "    </tr>\n",
       "  </thead>\n",
       "  <tbody>\n",
       "    <tr>\n",
       "      <th>0</th>\n",
       "      <td> 401</td>\n",
       "      <td>   BeeRingers</td>\n",
       "      <td> 6</td>\n",
       "      <td> Masters, Mixed</td>\n",
       "      <td> 2</td>\n",
       "      <td> Y</td>\n",
       "      <td> BeeRingers</td>\n",
       "      <td> 10</td>\n",
       "      <td> MB6</td>\n",
       "      <td>  NaN</td>\n",
       "      <td>NaN</td>\n",
       "      <td> 780</td>\n",
       "      <td>   0</td>\n",
       "      <td> 780</td>\n",
       "    </tr>\n",
       "    <tr>\n",
       "      <th>1</th>\n",
       "      <td> 403</td>\n",
       "      <td> High and Dry</td>\n",
       "      <td> 6</td>\n",
       "      <td>   Masters, Men</td>\n",
       "      <td> 2</td>\n",
       "      <td> Y</td>\n",
       "      <td> HighandDry</td>\n",
       "      <td>NaN</td>\n",
       "      <td> MM6</td>\n",
       "      <td>  NaN</td>\n",
       "      <td>NaN</td>\n",
       "      <td> 400</td>\n",
       "      <td>   0</td>\n",
       "      <td> 400</td>\n",
       "    </tr>\n",
       "    <tr>\n",
       "      <th>2</th>\n",
       "      <td> 403</td>\n",
       "      <td> High and Dry</td>\n",
       "      <td> 6</td>\n",
       "      <td>   Masters, Men</td>\n",
       "      <td> 2</td>\n",
       "      <td> Y</td>\n",
       "      <td> HighandDry</td>\n",
       "      <td> 53</td>\n",
       "      <td> MM6</td>\n",
       "      <td>  NaN</td>\n",
       "      <td>NaN</td>\n",
       "      <td> 330</td>\n",
       "      <td> 510</td>\n",
       "      <td>-180</td>\n",
       "    </tr>\n",
       "    <tr>\n",
       "      <th>3</th>\n",
       "      <td> 404</td>\n",
       "      <td>   Team Spang</td>\n",
       "      <td> 6</td>\n",
       "      <td> Masters, Mixed</td>\n",
       "      <td> 2</td>\n",
       "      <td> N</td>\n",
       "      <td>  TeamSpang</td>\n",
       "      <td>NaN</td>\n",
       "      <td> MB6</td>\n",
       "      <td> WPOC</td>\n",
       "      <td>NaN</td>\n",
       "      <td> 790</td>\n",
       "      <td>   0</td>\n",
       "      <td> 790</td>\n",
       "    </tr>\n",
       "    <tr>\n",
       "      <th>4</th>\n",
       "      <td> 405</td>\n",
       "      <td> Yaki   Barak</td>\n",
       "      <td> 6</td>\n",
       "      <td>   Masters, Men</td>\n",
       "      <td> 1</td>\n",
       "      <td> N</td>\n",
       "      <td>  YakiBarak</td>\n",
       "      <td> 37</td>\n",
       "      <td> MM6</td>\n",
       "      <td> WPOC</td>\n",
       "      <td>NaN</td>\n",
       "      <td> 500</td>\n",
       "      <td>   0</td>\n",
       "      <td> 500</td>\n",
       "    </tr>\n",
       "  </tbody>\n",
       "</table>\n",
       "</div>"
      ],
      "text/plain": [
       "   team ID     Team Name  Time Limit        Category  Size Borrow        test  \\\n",
       "0      401    BeeRingers           6  Masters, Mixed     2      Y  BeeRingers   \n",
       "1      403  High and Dry           6    Masters, Men     2      Y  HighandDry   \n",
       "2      403  High and Dry           6    Masters, Men     2      Y  HighandDry   \n",
       "3      404    Team Spang           6  Masters, Mixed     2      N   TeamSpang   \n",
       "4      405  Yaki   Barak           6    Masters, Men     1      N   YakiBarak   \n",
       "\n",
       "   Rank Class  Club  Time  Gross Score  Penalty  Score  \n",
       "0    10   MB6   NaN   NaN          780        0    780  \n",
       "1   NaN   MM6   NaN   NaN          400        0    400  \n",
       "2    53   MM6   NaN   NaN          330      510   -180  \n",
       "3   NaN   MB6  WPOC   NaN          790        0    790  \n",
       "4    37   MM6  WPOC   NaN          500        0    500  "
      ]
     },
     "execution_count": 19,
     "metadata": {},
     "output_type": "execute_result"
    }
   ],
   "source": [
    "test_df.head()"
   ]
  },
  {
   "cell_type": "code",
   "execution_count": 20,
   "metadata": {
    "collapsed": true
   },
   "outputs": [],
   "source": [
    "# Save cleaned data\n",
    "test_df.to_csv('clean_data/team_info_score.csv')"
   ]
  },
  {
   "cell_type": "markdown",
   "metadata": {},
   "source": [
    "### Prepare data for model"
   ]
  },
  {
   "cell_type": "markdown",
   "metadata": {},
   "source": [
    "In order to prepare the data for modeling we did the following:\n",
    "* Remove all columns except: size, borrow, class, club, penalty, and score\n",
    "* Change the borrow column from Y/N to 0/1\n",
    "* Change the class column to a binary vector, so each team will have a '1' in the column with their class and '0' in the others\n",
    "* Change club to 0/1 whether the team is a club member or not\n",
    "* Change penalty to binary on whether they were penalized for being late or not\n",
    "* Split the data into teams from the 6-hour race and 3-hour race"
   ]
  },
  {
   "cell_type": "code",
   "execution_count": 21,
   "metadata": {
    "collapsed": true
   },
   "outputs": [],
   "source": [
    "model_df = test_df.drop(['Team Name', 'Category', 'test', 'Rank', 'Time', 'Gross Score'], 1)\n"
   ]
  },
  {
   "cell_type": "code",
   "execution_count": 22,
   "metadata": {
    "collapsed": true
   },
   "outputs": [],
   "source": [
    "model_df['Club_b'] = model_df['Club'].fillna(0).map( { 0: 0, 'WPOC': 1 })\n",
    "model_df['Penalty_b'] = model_df['Penalty'].map(lambda x: 0 if x == 0 else 1)\n",
    "model_df['Borrow_b'] = model_df['Borrow'].map( { 'N': 0, 'Y': 1 } )"
   ]
  },
  {
   "cell_type": "code",
   "execution_count": 23,
   "metadata": {
    "collapsed": false
   },
   "outputs": [
    {
     "data": {
      "text/html": [
       "<div style=\"max-height:1000px;max-width:1500px;overflow:auto;\">\n",
       "<table border=\"1\" class=\"dataframe\">\n",
       "  <thead>\n",
       "    <tr style=\"text-align: right;\">\n",
       "      <th></th>\n",
       "      <th>team ID</th>\n",
       "      <th>Time Limit</th>\n",
       "      <th>Size</th>\n",
       "      <th>Borrow</th>\n",
       "      <th>Class</th>\n",
       "      <th>Club</th>\n",
       "      <th>Penalty</th>\n",
       "      <th>Score</th>\n",
       "      <th>Club_b</th>\n",
       "      <th>Penalty_b</th>\n",
       "      <th>Borrow_b</th>\n",
       "    </tr>\n",
       "  </thead>\n",
       "  <tbody>\n",
       "    <tr>\n",
       "      <th>0</th>\n",
       "      <td> 401</td>\n",
       "      <td> 6</td>\n",
       "      <td> 2</td>\n",
       "      <td> Y</td>\n",
       "      <td> MB6</td>\n",
       "      <td>  NaN</td>\n",
       "      <td>   0</td>\n",
       "      <td> 780</td>\n",
       "      <td> 0</td>\n",
       "      <td> 0</td>\n",
       "      <td> 1</td>\n",
       "    </tr>\n",
       "    <tr>\n",
       "      <th>1</th>\n",
       "      <td> 403</td>\n",
       "      <td> 6</td>\n",
       "      <td> 2</td>\n",
       "      <td> Y</td>\n",
       "      <td> MM6</td>\n",
       "      <td>  NaN</td>\n",
       "      <td>   0</td>\n",
       "      <td> 400</td>\n",
       "      <td> 0</td>\n",
       "      <td> 0</td>\n",
       "      <td> 1</td>\n",
       "    </tr>\n",
       "    <tr>\n",
       "      <th>2</th>\n",
       "      <td> 403</td>\n",
       "      <td> 6</td>\n",
       "      <td> 2</td>\n",
       "      <td> Y</td>\n",
       "      <td> MM6</td>\n",
       "      <td>  NaN</td>\n",
       "      <td> 510</td>\n",
       "      <td>-180</td>\n",
       "      <td> 0</td>\n",
       "      <td> 1</td>\n",
       "      <td> 1</td>\n",
       "    </tr>\n",
       "    <tr>\n",
       "      <th>3</th>\n",
       "      <td> 404</td>\n",
       "      <td> 6</td>\n",
       "      <td> 2</td>\n",
       "      <td> N</td>\n",
       "      <td> MB6</td>\n",
       "      <td> WPOC</td>\n",
       "      <td>   0</td>\n",
       "      <td> 790</td>\n",
       "      <td> 1</td>\n",
       "      <td> 0</td>\n",
       "      <td> 0</td>\n",
       "    </tr>\n",
       "    <tr>\n",
       "      <th>4</th>\n",
       "      <td> 405</td>\n",
       "      <td> 6</td>\n",
       "      <td> 1</td>\n",
       "      <td> N</td>\n",
       "      <td> MM6</td>\n",
       "      <td> WPOC</td>\n",
       "      <td>   0</td>\n",
       "      <td> 500</td>\n",
       "      <td> 1</td>\n",
       "      <td> 0</td>\n",
       "      <td> 0</td>\n",
       "    </tr>\n",
       "  </tbody>\n",
       "</table>\n",
       "</div>"
      ],
      "text/plain": [
       "   team ID  Time Limit  Size Borrow Class  Club  Penalty  Score  Club_b  \\\n",
       "0      401           6     2      Y   MB6   NaN        0    780       0   \n",
       "1      403           6     2      Y   MM6   NaN        0    400       0   \n",
       "2      403           6     2      Y   MM6   NaN      510   -180       0   \n",
       "3      404           6     2      N   MB6  WPOC        0    790       1   \n",
       "4      405           6     1      N   MM6  WPOC        0    500       1   \n",
       "\n",
       "   Penalty_b  Borrow_b  \n",
       "0          0         1  \n",
       "1          0         1  \n",
       "2          1         1  \n",
       "3          0         0  \n",
       "4          0         0  "
      ]
     },
     "execution_count": 23,
     "metadata": {},
     "output_type": "execute_result"
    }
   ],
   "source": [
    "model_df.head()"
   ]
  },
  {
   "cell_type": "code",
   "execution_count": 24,
   "metadata": {
    "collapsed": true
   },
   "outputs": [],
   "source": [
    "model_hour3_df = model_df[ model_df['Time Limit'] == 3 ]\n",
    "model_hour6_df = model_df[ model_df['Time Limit'] == 6 ]"
   ]
  },
  {
   "cell_type": "code",
   "execution_count": 25,
   "metadata": {
    "collapsed": false
   },
   "outputs": [],
   "source": [
    "model_hour3_df = pd.concat([model_hour3_df, pd.get_dummies(model_hour3_df['Class'])], axis=1)\n",
    "model_hour6_df = pd.concat([model_hour6_df, pd.get_dummies(model_hour6_df['Class'])], axis=1)"
   ]
  },
  {
   "cell_type": "code",
   "execution_count": 26,
   "metadata": {
    "collapsed": false
   },
   "outputs": [],
   "source": [
    "model_hour3_df = model_hour3_df.drop(['team ID', 'Time Limit', 'Borrow', 'Class', 'Club', 'Penalty'], 1)\n",
    "model_hour6_df = model_hour6_df.drop(['team ID', 'Time Limit', 'Borrow', 'Class', 'Club', 'Penalty'], 1)"
   ]
  },
  {
   "cell_type": "code",
   "execution_count": 27,
   "metadata": {
    "collapsed": false
   },
   "outputs": [
    {
     "data": {
      "text/html": [
       "<div style=\"max-height:1000px;max-width:1500px;overflow:auto;\">\n",
       "<table border=\"1\" class=\"dataframe\">\n",
       "  <thead>\n",
       "    <tr style=\"text-align: right;\">\n",
       "      <th></th>\n",
       "      <th>Size</th>\n",
       "      <th>Score</th>\n",
       "      <th>Club_b</th>\n",
       "      <th>Penalty_b</th>\n",
       "      <th>Borrow_b</th>\n",
       "      <th>EB6</th>\n",
       "      <th>EM6</th>\n",
       "      <th>EW6</th>\n",
       "      <th>MB6</th>\n",
       "      <th>MM6</th>\n",
       "      <th>MW6</th>\n",
       "      <th>VB6</th>\n",
       "      <th>VM6</th>\n",
       "    </tr>\n",
       "  </thead>\n",
       "  <tbody>\n",
       "    <tr>\n",
       "      <th>0</th>\n",
       "      <td> 2</td>\n",
       "      <td> 780</td>\n",
       "      <td> 0</td>\n",
       "      <td> 0</td>\n",
       "      <td> 1</td>\n",
       "      <td> 0</td>\n",
       "      <td> 0</td>\n",
       "      <td> 0</td>\n",
       "      <td> 1</td>\n",
       "      <td> 0</td>\n",
       "      <td> 0</td>\n",
       "      <td> 0</td>\n",
       "      <td> 0</td>\n",
       "    </tr>\n",
       "    <tr>\n",
       "      <th>1</th>\n",
       "      <td> 2</td>\n",
       "      <td> 400</td>\n",
       "      <td> 0</td>\n",
       "      <td> 0</td>\n",
       "      <td> 1</td>\n",
       "      <td> 0</td>\n",
       "      <td> 0</td>\n",
       "      <td> 0</td>\n",
       "      <td> 0</td>\n",
       "      <td> 1</td>\n",
       "      <td> 0</td>\n",
       "      <td> 0</td>\n",
       "      <td> 0</td>\n",
       "    </tr>\n",
       "    <tr>\n",
       "      <th>2</th>\n",
       "      <td> 2</td>\n",
       "      <td>-180</td>\n",
       "      <td> 0</td>\n",
       "      <td> 1</td>\n",
       "      <td> 1</td>\n",
       "      <td> 0</td>\n",
       "      <td> 0</td>\n",
       "      <td> 0</td>\n",
       "      <td> 0</td>\n",
       "      <td> 1</td>\n",
       "      <td> 0</td>\n",
       "      <td> 0</td>\n",
       "      <td> 0</td>\n",
       "    </tr>\n",
       "    <tr>\n",
       "      <th>3</th>\n",
       "      <td> 2</td>\n",
       "      <td> 790</td>\n",
       "      <td> 1</td>\n",
       "      <td> 0</td>\n",
       "      <td> 0</td>\n",
       "      <td> 0</td>\n",
       "      <td> 0</td>\n",
       "      <td> 0</td>\n",
       "      <td> 1</td>\n",
       "      <td> 0</td>\n",
       "      <td> 0</td>\n",
       "      <td> 0</td>\n",
       "      <td> 0</td>\n",
       "    </tr>\n",
       "    <tr>\n",
       "      <th>4</th>\n",
       "      <td> 1</td>\n",
       "      <td> 500</td>\n",
       "      <td> 1</td>\n",
       "      <td> 0</td>\n",
       "      <td> 0</td>\n",
       "      <td> 0</td>\n",
       "      <td> 0</td>\n",
       "      <td> 0</td>\n",
       "      <td> 0</td>\n",
       "      <td> 1</td>\n",
       "      <td> 0</td>\n",
       "      <td> 0</td>\n",
       "      <td> 0</td>\n",
       "    </tr>\n",
       "  </tbody>\n",
       "</table>\n",
       "</div>"
      ],
      "text/plain": [
       "   Size  Score  Club_b  Penalty_b  Borrow_b  EB6  EM6  EW6  MB6  MM6  MW6  \\\n",
       "0     2    780       0          0         1    0    0    0    1    0    0   \n",
       "1     2    400       0          0         1    0    0    0    0    1    0   \n",
       "2     2   -180       0          1         1    0    0    0    0    1    0   \n",
       "3     2    790       1          0         0    0    0    0    1    0    0   \n",
       "4     1    500       1          0         0    0    0    0    0    1    0   \n",
       "\n",
       "   VB6  VM6  \n",
       "0    0    0  \n",
       "1    0    0  \n",
       "2    0    0  \n",
       "3    0    0  \n",
       "4    0    0  "
      ]
     },
     "execution_count": 27,
     "metadata": {},
     "output_type": "execute_result"
    }
   ],
   "source": [
    "model_hour6_df.head()"
   ]
  },
  {
   "cell_type": "markdown",
   "metadata": {},
   "source": [
    "### Adding checkpoints visited to model"
   ]
  },
  {
   "cell_type": "markdown",
   "metadata": {},
   "source": [
    "As a separate analysis, we added the checkpoints each team hit into a separate model.  This was done to see if certain checkpoints were correlated with higher scores.  To do this, we added a binary vector of length 50, one for each of the 50 checkpoints, so that if a team reached that checkpoint, the value for that column would be 1, otherwise it would be 0."
   ]
  },
  {
   "cell_type": "code",
   "execution_count": 28,
   "metadata": {
    "collapsed": false
   },
   "outputs": [
    {
     "data": {
      "text/html": [
       "<div style=\"max-height:1000px;max-width:1500px;overflow:auto;\">\n",
       "<table border=\"1\" class=\"dataframe\">\n",
       "  <thead>\n",
       "    <tr style=\"text-align: right;\">\n",
       "      <th></th>\n",
       "      <th>team ID</th>\n",
       "      <th>Team Name</th>\n",
       "      <th>Checkpoint</th>\n",
       "      <th>Total Time</th>\n",
       "      <th>Split</th>\n",
       "    </tr>\n",
       "  </thead>\n",
       "  <tbody>\n",
       "    <tr>\n",
       "      <th>0</th>\n",
       "      <td> 285</td>\n",
       "      <td> NimKik Skulls</td>\n",
       "      <td> 105</td>\n",
       "      <td> 0:13:04</td>\n",
       "      <td> 0:13:04</td>\n",
       "    </tr>\n",
       "    <tr>\n",
       "      <th>1</th>\n",
       "      <td> 285</td>\n",
       "      <td> NimKik Skulls</td>\n",
       "      <td> 126</td>\n",
       "      <td> 0:27:33</td>\n",
       "      <td> 0:14:29</td>\n",
       "    </tr>\n",
       "    <tr>\n",
       "      <th>2</th>\n",
       "      <td> 285</td>\n",
       "      <td> NimKik Skulls</td>\n",
       "      <td> 143</td>\n",
       "      <td> 0:45:17</td>\n",
       "      <td> 0:17:44</td>\n",
       "    </tr>\n",
       "    <tr>\n",
       "      <th>3</th>\n",
       "      <td> 285</td>\n",
       "      <td> NimKik Skulls</td>\n",
       "      <td> 103</td>\n",
       "      <td> 1:11:47</td>\n",
       "      <td> 0:26:30</td>\n",
       "    </tr>\n",
       "    <tr>\n",
       "      <th>4</th>\n",
       "      <td> 285</td>\n",
       "      <td> NimKik Skulls</td>\n",
       "      <td> 132</td>\n",
       "      <td> 1:26:53</td>\n",
       "      <td> 0:15:06</td>\n",
       "    </tr>\n",
       "  </tbody>\n",
       "</table>\n",
       "</div>"
      ],
      "text/plain": [
       "   team ID      Team Name Checkpoint Total Time    Split\n",
       "0      285  NimKik Skulls        105    0:13:04  0:13:04\n",
       "1      285  NimKik Skulls        126    0:27:33  0:14:29\n",
       "2      285  NimKik Skulls        143    0:45:17  0:17:44\n",
       "3      285  NimKik Skulls        103    1:11:47  0:26:30\n",
       "4      285  NimKik Skulls        132    1:26:53  0:15:06"
      ]
     },
     "execution_count": 28,
     "metadata": {},
     "output_type": "execute_result"
    }
   ],
   "source": [
    "route_df.head()"
   ]
  },
  {
   "cell_type": "code",
   "execution_count": 29,
   "metadata": {
    "collapsed": false
   },
   "outputs": [
    {
     "data": {
      "text/plain": [
       "70"
      ]
     },
     "execution_count": 29,
     "metadata": {},
     "output_type": "execute_result"
    }
   ],
   "source": [
    "checkpoints_by_team = route_df.dropna().groupby('team ID')['Checkpoint'].apply(lambda x: x.tolist())\n",
    "len(checkpoints_by_team.index)"
   ]
  },
  {
   "cell_type": "code",
   "execution_count": 30,
   "metadata": {
    "collapsed": false
   },
   "outputs": [],
   "source": [
    "checkpoint_array = np.zeros((70,51))"
   ]
  },
  {
   "cell_type": "code",
   "execution_count": 31,
   "metadata": {
    "collapsed": false
   },
   "outputs": [],
   "source": [
    "for i,teamID in enumerate(checkpoints_by_team.keys()):\n",
    "    checkpoint_array[i,0] = np.int(teamID)\n",
    "    for checkpoint in checkpoints_by_team[teamID]:\n",
    "        if checkpoint =='F' or checkpoint == 'nan':\n",
    "            continue\n",
    "        idx = np.int(checkpoint) - 100\n",
    "        checkpoint_array[i, idx] = 1\n",
    "    #print(teamID, checkpoints_by_team[teamID])"
   ]
  },
  {
   "cell_type": "code",
   "execution_count": 32,
   "metadata": {
    "collapsed": false
   },
   "outputs": [
    {
     "data": {
      "text/plain": [
       "array([[ 0.,  0.,  0., ...,  0.,  0.,  0.],\n",
       "       [ 0.,  0.,  1., ...,  0.,  0.,  0.],\n",
       "       [ 0.,  0.,  0., ...,  0.,  0.,  0.],\n",
       "       ..., \n",
       "       [ 0.,  1.,  1., ...,  0.,  0.,  0.],\n",
       "       [ 0.,  0.,  0., ...,  0.,  1.,  1.],\n",
       "       [ 1.,  1.,  1., ...,  1.,  0.,  0.]])"
      ]
     },
     "execution_count": 32,
     "metadata": {},
     "output_type": "execute_result"
    }
   ],
   "source": [
    "checkpoint_array[:,1:]"
   ]
  },
  {
   "cell_type": "code",
   "execution_count": 33,
   "metadata": {
    "collapsed": false
   },
   "outputs": [],
   "source": [
    "columns = ['team ID',]\n",
    "columns.extend([ '{}'.format(x) for x in np.arange(101,151)])\n",
    "checkpoint_df = pd.DataFrame.from_records(checkpoint_array, columns=columns)"
   ]
  },
  {
   "cell_type": "code",
   "execution_count": 34,
   "metadata": {
    "collapsed": false
   },
   "outputs": [
    {
     "data": {
      "text/html": [
       "<div style=\"max-height:1000px;max-width:1500px;overflow:auto;\">\n",
       "<table border=\"1\" class=\"dataframe\">\n",
       "  <thead>\n",
       "    <tr style=\"text-align: right;\">\n",
       "      <th></th>\n",
       "      <th>team ID</th>\n",
       "      <th>101</th>\n",
       "      <th>102</th>\n",
       "      <th>103</th>\n",
       "      <th>104</th>\n",
       "      <th>105</th>\n",
       "      <th>106</th>\n",
       "      <th>107</th>\n",
       "      <th>108</th>\n",
       "      <th>109</th>\n",
       "      <th>...</th>\n",
       "      <th>141</th>\n",
       "      <th>142</th>\n",
       "      <th>143</th>\n",
       "      <th>144</th>\n",
       "      <th>145</th>\n",
       "      <th>146</th>\n",
       "      <th>147</th>\n",
       "      <th>148</th>\n",
       "      <th>149</th>\n",
       "      <th>150</th>\n",
       "    </tr>\n",
       "  </thead>\n",
       "  <tbody>\n",
       "    <tr>\n",
       "      <th>0</th>\n",
       "      <td> 275</td>\n",
       "      <td> 0</td>\n",
       "      <td> 0</td>\n",
       "      <td> 0</td>\n",
       "      <td> 1</td>\n",
       "      <td> 0</td>\n",
       "      <td> 1</td>\n",
       "      <td> 0</td>\n",
       "      <td> 0</td>\n",
       "      <td> 1</td>\n",
       "      <td>...</td>\n",
       "      <td> 0</td>\n",
       "      <td> 0</td>\n",
       "      <td> 0</td>\n",
       "      <td> 0</td>\n",
       "      <td> 0</td>\n",
       "      <td> 0</td>\n",
       "      <td> 0</td>\n",
       "      <td> 0</td>\n",
       "      <td> 0</td>\n",
       "      <td> 0</td>\n",
       "    </tr>\n",
       "    <tr>\n",
       "      <th>1</th>\n",
       "      <td> 276</td>\n",
       "      <td> 0</td>\n",
       "      <td> 0</td>\n",
       "      <td> 1</td>\n",
       "      <td> 0</td>\n",
       "      <td> 1</td>\n",
       "      <td> 1</td>\n",
       "      <td> 0</td>\n",
       "      <td> 0</td>\n",
       "      <td> 1</td>\n",
       "      <td>...</td>\n",
       "      <td> 0</td>\n",
       "      <td> 0</td>\n",
       "      <td> 0</td>\n",
       "      <td> 0</td>\n",
       "      <td> 0</td>\n",
       "      <td> 0</td>\n",
       "      <td> 0</td>\n",
       "      <td> 0</td>\n",
       "      <td> 0</td>\n",
       "      <td> 0</td>\n",
       "    </tr>\n",
       "    <tr>\n",
       "      <th>2</th>\n",
       "      <td> 277</td>\n",
       "      <td> 0</td>\n",
       "      <td> 0</td>\n",
       "      <td> 0</td>\n",
       "      <td> 0</td>\n",
       "      <td> 0</td>\n",
       "      <td> 1</td>\n",
       "      <td> 0</td>\n",
       "      <td> 0</td>\n",
       "      <td> 1</td>\n",
       "      <td>...</td>\n",
       "      <td> 0</td>\n",
       "      <td> 0</td>\n",
       "      <td> 0</td>\n",
       "      <td> 0</td>\n",
       "      <td> 0</td>\n",
       "      <td> 0</td>\n",
       "      <td> 0</td>\n",
       "      <td> 0</td>\n",
       "      <td> 0</td>\n",
       "      <td> 0</td>\n",
       "    </tr>\n",
       "    <tr>\n",
       "      <th>3</th>\n",
       "      <td> 278</td>\n",
       "      <td> 1</td>\n",
       "      <td> 0</td>\n",
       "      <td> 0</td>\n",
       "      <td> 0</td>\n",
       "      <td> 0</td>\n",
       "      <td> 0</td>\n",
       "      <td> 0</td>\n",
       "      <td> 0</td>\n",
       "      <td> 1</td>\n",
       "      <td>...</td>\n",
       "      <td> 0</td>\n",
       "      <td> 0</td>\n",
       "      <td> 0</td>\n",
       "      <td> 1</td>\n",
       "      <td> 0</td>\n",
       "      <td> 0</td>\n",
       "      <td> 0</td>\n",
       "      <td> 0</td>\n",
       "      <td> 0</td>\n",
       "      <td> 0</td>\n",
       "    </tr>\n",
       "    <tr>\n",
       "      <th>4</th>\n",
       "      <td> 279</td>\n",
       "      <td> 0</td>\n",
       "      <td> 1</td>\n",
       "      <td> 0</td>\n",
       "      <td> 1</td>\n",
       "      <td> 0</td>\n",
       "      <td> 0</td>\n",
       "      <td> 0</td>\n",
       "      <td> 0</td>\n",
       "      <td> 0</td>\n",
       "      <td>...</td>\n",
       "      <td> 1</td>\n",
       "      <td> 1</td>\n",
       "      <td> 0</td>\n",
       "      <td> 0</td>\n",
       "      <td> 0</td>\n",
       "      <td> 0</td>\n",
       "      <td> 0</td>\n",
       "      <td> 0</td>\n",
       "      <td> 0</td>\n",
       "      <td> 0</td>\n",
       "    </tr>\n",
       "  </tbody>\n",
       "</table>\n",
       "<p>5 rows × 51 columns</p>\n",
       "</div>"
      ],
      "text/plain": [
       "   team ID  101  102  103  104  105  106  107  108  109 ...   141  142  143  \\\n",
       "0      275    0    0    0    1    0    1    0    0    1 ...     0    0    0   \n",
       "1      276    0    0    1    0    1    1    0    0    1 ...     0    0    0   \n",
       "2      277    0    0    0    0    0    1    0    0    1 ...     0    0    0   \n",
       "3      278    1    0    0    0    0    0    0    0    1 ...     0    0    0   \n",
       "4      279    0    1    0    1    0    0    0    0    0 ...     1    1    0   \n",
       "\n",
       "   144  145  146  147  148  149  150  \n",
       "0    0    0    0    0    0    0    0  \n",
       "1    0    0    0    0    0    0    0  \n",
       "2    0    0    0    0    0    0    0  \n",
       "3    1    0    0    0    0    0    0  \n",
       "4    0    0    0    0    0    0    0  \n",
       "\n",
       "[5 rows x 51 columns]"
      ]
     },
     "execution_count": 34,
     "metadata": {},
     "output_type": "execute_result"
    }
   ],
   "source": [
    "checkpoint_df.head()"
   ]
  },
  {
   "cell_type": "code",
   "execution_count": 35,
   "metadata": {
    "collapsed": true
   },
   "outputs": [],
   "source": [
    "model_checkpoints_df = pd.merge(model_df, checkpoint_df, on='team ID', how='right')"
   ]
  },
  {
   "cell_type": "code",
   "execution_count": 36,
   "metadata": {
    "collapsed": false
   },
   "outputs": [
    {
     "data": {
      "text/html": [
       "<div style=\"max-height:1000px;max-width:1500px;overflow:auto;\">\n",
       "<table border=\"1\" class=\"dataframe\">\n",
       "  <thead>\n",
       "    <tr style=\"text-align: right;\">\n",
       "      <th></th>\n",
       "      <th>team ID</th>\n",
       "      <th>Time Limit</th>\n",
       "      <th>Size</th>\n",
       "      <th>Borrow</th>\n",
       "      <th>Class</th>\n",
       "      <th>Club</th>\n",
       "      <th>Penalty</th>\n",
       "      <th>Score</th>\n",
       "      <th>Club_b</th>\n",
       "      <th>Penalty_b</th>\n",
       "      <th>...</th>\n",
       "      <th>141</th>\n",
       "      <th>142</th>\n",
       "      <th>143</th>\n",
       "      <th>144</th>\n",
       "      <th>145</th>\n",
       "      <th>146</th>\n",
       "      <th>147</th>\n",
       "      <th>148</th>\n",
       "      <th>149</th>\n",
       "      <th>150</th>\n",
       "    </tr>\n",
       "  </thead>\n",
       "  <tbody>\n",
       "    <tr>\n",
       "      <th>0</th>\n",
       "      <td> 401</td>\n",
       "      <td> 6</td>\n",
       "      <td> 2</td>\n",
       "      <td> Y</td>\n",
       "      <td> MB6</td>\n",
       "      <td>  NaN</td>\n",
       "      <td> 0</td>\n",
       "      <td> 780</td>\n",
       "      <td> 0</td>\n",
       "      <td> 0</td>\n",
       "      <td>...</td>\n",
       "      <td> 1</td>\n",
       "      <td> 0</td>\n",
       "      <td> 1</td>\n",
       "      <td> 0</td>\n",
       "      <td> 0</td>\n",
       "      <td> 0</td>\n",
       "      <td> 0</td>\n",
       "      <td> 0</td>\n",
       "      <td> 1</td>\n",
       "      <td> 1</td>\n",
       "    </tr>\n",
       "    <tr>\n",
       "      <th>1</th>\n",
       "      <td> 405</td>\n",
       "      <td> 6</td>\n",
       "      <td> 1</td>\n",
       "      <td> N</td>\n",
       "      <td> MM6</td>\n",
       "      <td> WPOC</td>\n",
       "      <td> 0</td>\n",
       "      <td> 500</td>\n",
       "      <td> 1</td>\n",
       "      <td> 0</td>\n",
       "      <td>...</td>\n",
       "      <td> 0</td>\n",
       "      <td> 0</td>\n",
       "      <td> 0</td>\n",
       "      <td> 1</td>\n",
       "      <td> 0</td>\n",
       "      <td> 1</td>\n",
       "      <td> 1</td>\n",
       "      <td> 1</td>\n",
       "      <td> 0</td>\n",
       "      <td> 0</td>\n",
       "    </tr>\n",
       "    <tr>\n",
       "      <th>2</th>\n",
       "      <td> 407</td>\n",
       "      <td> 6</td>\n",
       "      <td> 1</td>\n",
       "      <td> Y</td>\n",
       "      <td> EM6</td>\n",
       "      <td> WPOC</td>\n",
       "      <td> 0</td>\n",
       "      <td> 440</td>\n",
       "      <td> 1</td>\n",
       "      <td> 0</td>\n",
       "      <td>...</td>\n",
       "      <td> 0</td>\n",
       "      <td> 0</td>\n",
       "      <td> 0</td>\n",
       "      <td> 1</td>\n",
       "      <td> 1</td>\n",
       "      <td> 1</td>\n",
       "      <td> 1</td>\n",
       "      <td> 1</td>\n",
       "      <td> 0</td>\n",
       "      <td> 0</td>\n",
       "    </tr>\n",
       "    <tr>\n",
       "      <th>3</th>\n",
       "      <td> 408</td>\n",
       "      <td> 6</td>\n",
       "      <td> 2</td>\n",
       "      <td> Y</td>\n",
       "      <td> EM6</td>\n",
       "      <td>  NaN</td>\n",
       "      <td> 0</td>\n",
       "      <td> 460</td>\n",
       "      <td> 0</td>\n",
       "      <td> 0</td>\n",
       "      <td>...</td>\n",
       "      <td> 0</td>\n",
       "      <td> 0</td>\n",
       "      <td> 0</td>\n",
       "      <td> 0</td>\n",
       "      <td> 0</td>\n",
       "      <td> 0</td>\n",
       "      <td> 0</td>\n",
       "      <td> 0</td>\n",
       "      <td> 0</td>\n",
       "      <td> 0</td>\n",
       "    </tr>\n",
       "    <tr>\n",
       "      <th>4</th>\n",
       "      <td> 409</td>\n",
       "      <td> 6</td>\n",
       "      <td> 2</td>\n",
       "      <td> N</td>\n",
       "      <td> VB6</td>\n",
       "      <td>  NaN</td>\n",
       "      <td> 0</td>\n",
       "      <td> 670</td>\n",
       "      <td> 0</td>\n",
       "      <td> 0</td>\n",
       "      <td>...</td>\n",
       "      <td> 1</td>\n",
       "      <td> 1</td>\n",
       "      <td> 1</td>\n",
       "      <td> 0</td>\n",
       "      <td> 0</td>\n",
       "      <td> 0</td>\n",
       "      <td> 0</td>\n",
       "      <td> 0</td>\n",
       "      <td> 1</td>\n",
       "      <td> 1</td>\n",
       "    </tr>\n",
       "  </tbody>\n",
       "</table>\n",
       "<p>5 rows × 61 columns</p>\n",
       "</div>"
      ],
      "text/plain": [
       "   team ID  Time Limit  Size Borrow Class  Club  Penalty  Score  Club_b  \\\n",
       "0      401           6     2      Y   MB6   NaN        0    780       0   \n",
       "1      405           6     1      N   MM6  WPOC        0    500       1   \n",
       "2      407           6     1      Y   EM6  WPOC        0    440       1   \n",
       "3      408           6     2      Y   EM6   NaN        0    460       0   \n",
       "4      409           6     2      N   VB6   NaN        0    670       0   \n",
       "\n",
       "   Penalty_b ...   141  142  143  144  145  146  147  148  149  150  \n",
       "0          0 ...     1    0    1    0    0    0    0    0    1    1  \n",
       "1          0 ...     0    0    0    1    0    1    1    1    0    0  \n",
       "2          0 ...     0    0    0    1    1    1    1    1    0    0  \n",
       "3          0 ...     0    0    0    0    0    0    0    0    0    0  \n",
       "4          0 ...     1    1    1    0    0    0    0    0    1    1  \n",
       "\n",
       "[5 rows x 61 columns]"
      ]
     },
     "execution_count": 36,
     "metadata": {},
     "output_type": "execute_result"
    }
   ],
   "source": [
    "model_checkpoints_df.head()"
   ]
  },
  {
   "cell_type": "code",
   "execution_count": 37,
   "metadata": {
    "collapsed": true
   },
   "outputs": [],
   "source": [
    "model_checkpoints_hour3_df = model_checkpoints_df[ model_checkpoints_df['Time Limit'] == 3 ]\n",
    "model_checkpoints_hour6_df = model_checkpoints_df[ model_checkpoints_df['Time Limit'] == 6 ]"
   ]
  },
  {
   "cell_type": "code",
   "execution_count": 38,
   "metadata": {
    "collapsed": true
   },
   "outputs": [],
   "source": [
    "model_checkpoints_hour3_df = pd.concat([model_checkpoints_hour3_df, pd.get_dummies(model_checkpoints_hour3_df['Class'])], axis=1)\n",
    "model_checkpoints_hour6_df = pd.concat([model_checkpoints_hour6_df, pd.get_dummies(model_checkpoints_hour6_df['Class'])], axis=1)"
   ]
  },
  {
   "cell_type": "code",
   "execution_count": 39,
   "metadata": {
    "collapsed": true
   },
   "outputs": [],
   "source": [
    "model_checkpoints_hour3_df = model_checkpoints_hour3_df.drop(['team ID', 'Time Limit', 'Borrow', 'Class', 'Club', 'Penalty'], 1)\n",
    "model_checkpoints_hour6_df = model_checkpoints_hour6_df.drop(['team ID', 'Time Limit', 'Borrow', 'Class', 'Club', 'Penalty'], 1)"
   ]
  },
  {
   "cell_type": "code",
   "execution_count": 40,
   "metadata": {
    "collapsed": false
   },
   "outputs": [
    {
     "data": {
      "text/html": [
       "<div style=\"max-height:1000px;max-width:1500px;overflow:auto;\">\n",
       "<table border=\"1\" class=\"dataframe\">\n",
       "  <thead>\n",
       "    <tr style=\"text-align: right;\">\n",
       "      <th></th>\n",
       "      <th>Size</th>\n",
       "      <th>Score</th>\n",
       "      <th>Club_b</th>\n",
       "      <th>Penalty_b</th>\n",
       "      <th>Borrow_b</th>\n",
       "      <th>101</th>\n",
       "      <th>102</th>\n",
       "      <th>103</th>\n",
       "      <th>104</th>\n",
       "      <th>105</th>\n",
       "      <th>...</th>\n",
       "      <th>149</th>\n",
       "      <th>150</th>\n",
       "      <th>EB6</th>\n",
       "      <th>EM6</th>\n",
       "      <th>EW6</th>\n",
       "      <th>MB6</th>\n",
       "      <th>MM6</th>\n",
       "      <th>MW6</th>\n",
       "      <th>VB6</th>\n",
       "      <th>VM6</th>\n",
       "    </tr>\n",
       "  </thead>\n",
       "  <tbody>\n",
       "    <tr>\n",
       "      <th>0</th>\n",
       "      <td> 2</td>\n",
       "      <td> 780</td>\n",
       "      <td> 0</td>\n",
       "      <td> 0</td>\n",
       "      <td> 1</td>\n",
       "      <td> 0</td>\n",
       "      <td> 1</td>\n",
       "      <td> 1</td>\n",
       "      <td> 1</td>\n",
       "      <td> 0</td>\n",
       "      <td>...</td>\n",
       "      <td> 1</td>\n",
       "      <td> 1</td>\n",
       "      <td> 0</td>\n",
       "      <td> 0</td>\n",
       "      <td> 0</td>\n",
       "      <td> 1</td>\n",
       "      <td> 0</td>\n",
       "      <td> 0</td>\n",
       "      <td> 0</td>\n",
       "      <td> 0</td>\n",
       "    </tr>\n",
       "    <tr>\n",
       "      <th>1</th>\n",
       "      <td> 1</td>\n",
       "      <td> 500</td>\n",
       "      <td> 1</td>\n",
       "      <td> 0</td>\n",
       "      <td> 0</td>\n",
       "      <td> 1</td>\n",
       "      <td> 0</td>\n",
       "      <td> 0</td>\n",
       "      <td> 0</td>\n",
       "      <td> 0</td>\n",
       "      <td>...</td>\n",
       "      <td> 0</td>\n",
       "      <td> 0</td>\n",
       "      <td> 0</td>\n",
       "      <td> 0</td>\n",
       "      <td> 0</td>\n",
       "      <td> 0</td>\n",
       "      <td> 1</td>\n",
       "      <td> 0</td>\n",
       "      <td> 0</td>\n",
       "      <td> 0</td>\n",
       "    </tr>\n",
       "    <tr>\n",
       "      <th>2</th>\n",
       "      <td> 1</td>\n",
       "      <td> 440</td>\n",
       "      <td> 1</td>\n",
       "      <td> 0</td>\n",
       "      <td> 1</td>\n",
       "      <td> 0</td>\n",
       "      <td> 0</td>\n",
       "      <td> 0</td>\n",
       "      <td> 0</td>\n",
       "      <td> 0</td>\n",
       "      <td>...</td>\n",
       "      <td> 0</td>\n",
       "      <td> 0</td>\n",
       "      <td> 0</td>\n",
       "      <td> 1</td>\n",
       "      <td> 0</td>\n",
       "      <td> 0</td>\n",
       "      <td> 0</td>\n",
       "      <td> 0</td>\n",
       "      <td> 0</td>\n",
       "      <td> 0</td>\n",
       "    </tr>\n",
       "    <tr>\n",
       "      <th>3</th>\n",
       "      <td> 2</td>\n",
       "      <td> 460</td>\n",
       "      <td> 0</td>\n",
       "      <td> 0</td>\n",
       "      <td> 1</td>\n",
       "      <td> 0</td>\n",
       "      <td> 1</td>\n",
       "      <td> 1</td>\n",
       "      <td> 1</td>\n",
       "      <td> 0</td>\n",
       "      <td>...</td>\n",
       "      <td> 0</td>\n",
       "      <td> 0</td>\n",
       "      <td> 0</td>\n",
       "      <td> 1</td>\n",
       "      <td> 0</td>\n",
       "      <td> 0</td>\n",
       "      <td> 0</td>\n",
       "      <td> 0</td>\n",
       "      <td> 0</td>\n",
       "      <td> 0</td>\n",
       "    </tr>\n",
       "    <tr>\n",
       "      <th>4</th>\n",
       "      <td> 2</td>\n",
       "      <td> 670</td>\n",
       "      <td> 0</td>\n",
       "      <td> 0</td>\n",
       "      <td> 0</td>\n",
       "      <td> 0</td>\n",
       "      <td> 1</td>\n",
       "      <td> 1</td>\n",
       "      <td> 0</td>\n",
       "      <td> 0</td>\n",
       "      <td>...</td>\n",
       "      <td> 1</td>\n",
       "      <td> 1</td>\n",
       "      <td> 0</td>\n",
       "      <td> 0</td>\n",
       "      <td> 0</td>\n",
       "      <td> 0</td>\n",
       "      <td> 0</td>\n",
       "      <td> 0</td>\n",
       "      <td> 1</td>\n",
       "      <td> 0</td>\n",
       "    </tr>\n",
       "  </tbody>\n",
       "</table>\n",
       "<p>5 rows × 63 columns</p>\n",
       "</div>"
      ],
      "text/plain": [
       "   Size  Score  Club_b  Penalty_b  Borrow_b  101  102  103  104  105 ...   \\\n",
       "0     2    780       0          0         1    0    1    1    1    0 ...    \n",
       "1     1    500       1          0         0    1    0    0    0    0 ...    \n",
       "2     1    440       1          0         1    0    0    0    0    0 ...    \n",
       "3     2    460       0          0         1    0    1    1    1    0 ...    \n",
       "4     2    670       0          0         0    0    1    1    0    0 ...    \n",
       "\n",
       "   149  150  EB6  EM6  EW6  MB6  MM6  MW6  VB6  VM6  \n",
       "0    1    1    0    0    0    1    0    0    0    0  \n",
       "1    0    0    0    0    0    0    1    0    0    0  \n",
       "2    0    0    0    1    0    0    0    0    0    0  \n",
       "3    0    0    0    1    0    0    0    0    0    0  \n",
       "4    1    1    0    0    0    0    0    0    1    0  \n",
       "\n",
       "[5 rows x 63 columns]"
      ]
     },
     "execution_count": 40,
     "metadata": {},
     "output_type": "execute_result"
    }
   ],
   "source": [
    "model_checkpoints_hour6_df.head()"
   ]
  },
  {
   "cell_type": "markdown",
   "metadata": {},
   "source": [
    "### Setup and train model"
   ]
  },
  {
   "cell_type": "markdown",
   "metadata": {},
   "source": [
    "We created a model using LassoCV in scikit-learn because we have many parameters and not very much data, so we only want to use the important parameters.  We start by looking at the data without the information about which checkpoints the teams reached.  The value we are trying to predict is the score.\n",
    "\n",
    "Due to the limited size of the dataset, we setup multiple iterations of randomly selecting a training set and test set from the data, fitting a model to training set, and seeing the root mean square error for both the training set and test set.  We compared the model to a model where we just predict the average score of all the teams.  By doing multiple iterations, we averaged each RMSE for each iteration, as well as the coefficients for each of the parameters."
   ]
  },
  {
   "cell_type": "code",
   "execution_count": 41,
   "metadata": {
    "collapsed": true
   },
   "outputs": [],
   "source": [
    "from sklearn import linear_model\n",
    "def fit_model(df):\n",
    "    mask = np.random.rand(len(df)) < 0.8\n",
    "    train_df = df[mask]\n",
    "    test_df = df[~mask]\n",
    "    train_results = train_df['Score'].values\n",
    "    test_results = test_df['Score'].values\n",
    "    train_data = train_df.drop(['Score'], axis=1).values\n",
    "    test_data = test_df.drop(['Score'], axis=1).values\n",
    "    model = linear_model.LassoCV(cv=5)\n",
    "    model.fit(train_data, train_results)\n",
    "    predict_train_data = model.predict(train_data)\n",
    "    predict_test_data = model.predict(test_data)\n",
    "    predict_avg = np.average(train_results)*np.ones(predict_train_data.shape)\n",
    "    train_mse = np.sqrt(((predict_train_data - train_results) ** 2).mean())\n",
    "    test_mse = np.sqrt(((predict_test_data - test_results) ** 2).mean())\n",
    "    predict_avg_mse = np.sqrt(((predict_avg - train_results) ** 2).mean())\n",
    "    \n",
    "    return (model.coef_, train_mse, test_mse, predict_avg_mse)"
   ]
  },
  {
   "cell_type": "markdown",
   "metadata": {},
   "source": [
    "### Model for 6 hour race, no checkpoints"
   ]
  },
  {
   "cell_type": "markdown",
   "metadata": {},
   "source": [
    "We find a rather high RMSE for both the training and test sets for the 6-hour race data.  The RMSE is very close to or worse than the RMSE for just predicting the average score, meaning this is not a good model for predicting score.  There are probably too few parameters and too few data for this model to be good."
   ]
  },
  {
   "cell_type": "code",
   "execution_count": 42,
   "metadata": {
    "collapsed": false
   },
   "outputs": [
    {
     "name": "stdout",
     "output_type": "stream",
     "text": [
      "The root mean squared error of the training set is 226.40.\n",
      "The root mean squared error of the test set is 238.92.\n",
      "The mean squared error of predicting the average score is 231.29.\n"
     ]
    }
   ],
   "source": [
    "coef_list_6 = []\n",
    "train_mse_list_6 = []\n",
    "test_mse_list_6 = []\n",
    "predict_avg_mse_list_6 = []\n",
    "for i in np.arange(50):\n",
    "    coefs, train_mse, test_mse, predict_avg_mse = fit_model(model_hour6_df)\n",
    "    coef_list_6.append(coefs)\n",
    "    train_mse_list_6.append(train_mse)\n",
    "    test_mse_list_6.append(test_mse)\n",
    "    predict_avg_mse_list_6.append(predict_avg_mse)\n",
    "print('The root mean squared error of the training set is {0:0.2f}.'.format(np.average(train_mse_list_6)))\n",
    "print('The root mean squared error of the test set is {0:0.2f}.'.format(np.average(test_mse_list_6)))\n",
    "print('The mean squared error of predicting the average score is {0:0.2f}.'.format(np.average(predict_avg_mse_list_6)))"
   ]
  },
  {
   "cell_type": "markdown",
   "metadata": {},
   "source": [
    "### Model for 3 hour race, no checkpoints"
   ]
  },
  {
   "cell_type": "markdown",
   "metadata": {},
   "source": [
    "The RMSE is also bad for the 3-hour race, for which there is even less data."
   ]
  },
  {
   "cell_type": "code",
   "execution_count": 43,
   "metadata": {
    "collapsed": false
   },
   "outputs": [
    {
     "name": "stdout",
     "output_type": "stream",
     "text": [
      "The root mean squared error of the training set is 121.43.\n",
      "The root mean squared error of the test set is nan.\n",
      "The mean squared error of predicting the average score is 132.07.\n"
     ]
    },
    {
     "name": "stderr",
     "output_type": "stream",
     "text": [
      "D:\\Program Files\\Anaconda\\lib\\site-packages\\numpy\\core\\_methods.py:59: RuntimeWarning: Mean of empty slice.\n",
      "  warnings.warn(\"Mean of empty slice.\", RuntimeWarning)\n"
     ]
    }
   ],
   "source": [
    "coef_list_3 = []\n",
    "train_mse_list_3 = []\n",
    "test_mse_list_3 = []\n",
    "predict_avg_mse_list_3 = []\n",
    "for i in np.arange(50):\n",
    "    coefs, train_mse, test_mse, predict_avg_mse = fit_model(model_hour3_df)\n",
    "    coef_list_3.append(coefs)\n",
    "    train_mse_list_3.append(train_mse)\n",
    "    test_mse_list_3.append(test_mse)\n",
    "    predict_avg_mse_list_3.append(predict_avg_mse)\n",
    "print('The root mean squared error of the training set is {0:0.2f}.'.format(np.average(train_mse_list_3)))\n",
    "print('The root mean squared error of the test set is {0:0.2f}.'.format(np.average(test_mse_list_3)))\n",
    "print('The mean squared error of predicting the average score is {0:0.2f}.'.format(np.average(predict_avg_mse_list_3)))"
   ]
  },
  {
   "cell_type": "markdown",
   "metadata": {},
   "source": [
    "### Look at model parameters for no checkpoint cases"
   ]
  },
  {
   "cell_type": "markdown",
   "metadata": {},
   "source": [
    "Below we show the coefficients for the 6-hour and 3-hour model separately.  Each coefficient is an average of the 50 iterations of the model fits for randomly selected training sets.\n",
    "\n",
    "We see for the 6-hour mode, not many parameters have sizable coefficients, so the model ends up being very simplistic and the parameters we have don't seem to be important in predicting a team's score.  Most notable is that a larger size of the team correlates with lower scores.  Also, teams that needed to borrow the electronic piece of equipment for tracking their checkpoints tended to get lower scores.  The 3-hour model showed some interesting coefficients, showing that the teams that were penalized for returning to the finish late got lower scores and the mixed mens class tended to do better."
   ]
  },
  {
   "cell_type": "code",
   "execution_count": 44,
   "metadata": {
    "collapsed": false
   },
   "outputs": [
    {
     "name": "stdout",
     "output_type": "stream",
     "text": [
      "6-hour\t3-hour\tcoeff\n",
      " -22.6\t   2.8\tSize\n",
      "   0.0\t   0.2\tClub_b\n",
      "   0.0\t -27.2\tPenalty_b\n",
      "  -4.3\t  -0.0\tBorrow_b\n",
      "   0.0\t -12.7\tEB6\n",
      "  -0.3\t  -1.6\tEM6\n",
      "   0.0\t  -2.0\tEW6\n",
      "   0.0\t   4.2\tMB6\n",
      "   0.5\t  27.3\tMM6\n",
      "   0.0\t   0.9\tMW6\n",
      "   0.0\t   0.0\tVB6\n",
      "  -1.0\t  -0.3\tVM6\n"
     ]
    }
   ],
   "source": [
    "cols = list(model_hour6_df.drop(['Score'], axis=1).columns.values)\n",
    "#print(len(cols), len(model_6chk.coef_))\n",
    "print('6-hour\\t3-hour\\tcoeff')\n",
    "for i,col in enumerate(cols):\n",
    "    coeffs6 = []\n",
    "    coeffs3 = []\n",
    "    for j in np.arange(len(coef_list_6)):\n",
    "        coeffs6.append(coef_list_6[j][i])\n",
    "        coeffs3.append(coef_list_3[j][i])\n",
    "    print('{:>6.1f}\\t{:>6.1f}\\t{}'.format(np.average(coeffs6), np.average(coeffs3), col))"
   ]
  },
  {
   "cell_type": "markdown",
   "metadata": {},
   "source": [
    "## With checkpoints"
   ]
  },
  {
   "cell_type": "markdown",
   "metadata": {},
   "source": [
    "### 6-hour model with checkpoints"
   ]
  },
  {
   "cell_type": "markdown",
   "metadata": {},
   "source": [
    "By including the checkpoints as parameters in the model, the prediction increases, as expected.  The RMSE of the training set is 53 and the test set is 125, which is reasonable for total scores around 500-1000 and with limited training data.  Both of these are less than the naive prediction of average score for each team."
   ]
  },
  {
   "cell_type": "code",
   "execution_count": 45,
   "metadata": {
    "collapsed": false
   },
   "outputs": [
    {
     "name": "stdout",
     "output_type": "stream",
     "text": [
      "The root mean squared error of the training set is 51.69.\n",
      "The root mean squared error of the test set is 124.48.\n",
      "The mean squared error of predicting the average score is 209.78.\n"
     ]
    },
    {
     "name": "stderr",
     "output_type": "stream",
     "text": [
      "D:\\Program Files\\Anaconda\\lib\\site-packages\\sklearn\\linear_model\\coordinate_descent.py:418: UserWarning: Objective did not converge. You might want to increase the number of iterations\n",
      "  ' to increase the number of iterations')\n"
     ]
    }
   ],
   "source": [
    "coef_list_6 = []\n",
    "train_mse_list_6 = []\n",
    "test_mse_list_6 = []\n",
    "predict_avg_mse_list_6 = []\n",
    "for i in np.arange(50):\n",
    "    coefs, train_mse, test_mse, predict_avg_mse = fit_model(model_checkpoints_hour6_df)\n",
    "    coef_list_6.append(coefs)\n",
    "    train_mse_list_6.append(train_mse)\n",
    "    test_mse_list_6.append(test_mse)\n",
    "    predict_avg_mse_list_6.append(predict_avg_mse)\n",
    "print('The root mean squared error of the training set is {0:0.2f}.'.format(np.average(train_mse_list_6)))\n",
    "print('The root mean squared error of the test set is {0:0.2f}.'.format(np.average(test_mse_list_6)))\n",
    "print('The mean squared error of predicting the average score is {0:0.2f}.'.format(np.average(predict_avg_mse_list_6)))"
   ]
  },
  {
   "cell_type": "markdown",
   "metadata": {},
   "source": [
    "### 3-hour model with checkpoints"
   ]
  },
  {
   "cell_type": "markdown",
   "metadata": {},
   "source": [
    "The 3-hour model did not do very well again, probably because of the limitation in the number od teams and training data."
   ]
  },
  {
   "cell_type": "code",
   "execution_count": 46,
   "metadata": {
    "collapsed": false
   },
   "outputs": [
    {
     "name": "stdout",
     "output_type": "stream",
     "text": [
      "The root mean squared error of the training set is 115.94.\n",
      "The root mean squared error of the test set is 143.00.\n",
      "The mean squared error of predicting the average score is 136.79.\n"
     ]
    }
   ],
   "source": [
    "coef_list_3 = []\n",
    "train_mse_list_3 = []\n",
    "test_mse_list_3 = []\n",
    "predict_avg_mse_list_3 = []\n",
    "for i in np.arange(50):\n",
    "    coefs, train_mse, test_mse, predict_avg_mse = fit_model(model_checkpoints_hour3_df)\n",
    "    coef_list_3.append(coefs)\n",
    "    train_mse_list_3.append(train_mse)\n",
    "    test_mse_list_3.append(test_mse)\n",
    "    predict_avg_mse_list_3.append(predict_avg_mse)\n",
    "print('The root mean squared error of the training set is {0:0.2f}.'.format(np.average(train_mse_list_3)))\n",
    "print('The root mean squared error of the test set is {0:0.2f}.'.format(np.average(test_mse_list_3)))\n",
    "print('The mean squared error of predicting the average score is {0:0.2f}.'.format(np.average(predict_avg_mse_list_3)))"
   ]
  },
  {
   "cell_type": "markdown",
   "metadata": {},
   "source": [
    "### Looking at parameters for with checkpoint cases"
   ]
  },
  {
   "cell_type": "markdown",
   "metadata": {},
   "source": [
    "By including the checkpoints in the model, we can see which checkpoints are correlated with higher scores.  The most notable are 124, 125, and 149 because they all have high coefficients for the 6-hour race.  Based on their location on the map, they do not seem to be easy checkpoints to get to based on distance, but perhaps the better and faster teams could plan a route to reach them, while picking up other checkpoints along the way.  It is also interesting to note that none of the coefficients have large negative values for the checkpoints, so there are no checkpoints associated with lower scores."
   ]
  },
  {
   "cell_type": "code",
   "execution_count": 47,
   "metadata": {
    "collapsed": false
   },
   "outputs": [
    {
     "name": "stdout",
     "output_type": "stream",
     "text": [
      "6-hour\t3-hour\tcoeff\n",
      " -27.3\t   2.3\tSize\n",
      "  -1.8\t   0.0\tClub_b\n",
      "   0.7\t -10.4\tPenalty_b\n",
      "  20.5\t   0.0\tBorrow_b\n",
      "   3.2\t   1.0\t101\n",
      "   1.0\t  -2.2\t102\n",
      "   7.0\t   0.7\t103\n",
      "   5.6\t   5.5\t104\n",
      "  -2.9\t   0.1\t105\n",
      "  -0.6\t   0.0\t106\n",
      "  14.7\t   2.6\t107\n",
      "   0.6\t  -2.4\t108\n",
      "   3.2\t   0.8\t109\n",
      "   2.9\t   4.0\t110\n",
      "  -0.2\t   3.4\t111\n",
      "   2.7\t   0.1\t112\n",
      "   8.6\t   0.0\t113\n",
      "  18.7\t   0.0\t114\n",
      "   1.4\t   0.0\t115\n",
      "   0.9\t   0.0\t116\n",
      "  17.4\t   1.0\t117\n",
      "   3.3\t  -0.8\t118\n",
      "   0.4\t   0.3\t119\n",
      "   2.2\t   0.0\t120\n",
      "  23.6\t  -2.9\t121\n",
      "   0.0\t  -0.0\t122\n",
      "  26.8\t  -0.0\t123\n",
      "  94.0\t  -0.0\t124\n",
      " 136.3\t   0.0\t125\n",
      "  84.1\t   0.0\t126\n",
      "   4.9\t   2.4\t127\n",
      "  16.9\t   0.0\t128\n",
      "   9.4\t   2.6\t129\n",
      "  16.4\t   0.0\t130\n",
      "  11.0\t  11.8\t131\n",
      "   0.7\t  25.0\t132\n",
      "   0.1\t   6.9\t133\n",
      "  13.8\t   0.0\t134\n",
      "  16.2\t   0.0\t135\n",
      "   4.6\t  -0.0\t136\n",
      "  68.6\t   3.1\t137\n",
      "   9.8\t   0.0\t138\n",
      "  10.7\t   1.4\t139\n",
      "  25.6\t   0.0\t140\n",
      "  35.7\t   0.0\t141\n",
      "  26.7\t   0.0\t142\n",
      "   1.6\t   0.0\t143\n",
      "  37.9\t   0.0\t144\n",
      "   6.3\t   0.0\t145\n",
      "  35.9\t   0.0\t146\n",
      "   2.0\t   0.0\t147\n",
      "   0.0\t  -0.0\t148\n",
      " 145.9\t   0.0\t149\n",
      "   2.3\t   0.0\t150\n",
      "   0.4\t   0.0\tEB6\n",
      "   5.4\t  -0.1\tEM6\n",
      "  -2.0\t  -2.7\tEW6\n",
      "  -0.3\t   0.1\tMB6\n",
      "   2.5\t   0.0\tMM6\n",
      "  -0.5\t   0.0\tMW6\n",
      "   0.5\t   0.0\tVB6\n",
      " -52.3\t   0.0\tVM6\n"
     ]
    }
   ],
   "source": [
    "cols = list(model_checkpoints_hour6_df.drop(['Score'], axis=1).columns.values)\n",
    "#print(len(cols), len(model_6chk.coef_))\n",
    "print('6-hour\\t3-hour\\tcoeff')\n",
    "for i,col in enumerate(cols):\n",
    "    coeffs6 = []\n",
    "    coeffs3 = []\n",
    "    for j in np.arange(len(coef_list_6)):\n",
    "        coeffs6.append(coef_list_6[j][i])\n",
    "        coeffs3.append(coef_list_3[j][i])\n",
    "    print('{:>6.1f}\\t{:>6.1f}\\t{}'.format(np.average(coeffs6), np.average(coeffs3), col))"
   ]
  },
  {
   "cell_type": "code",
   "execution_count": null,
   "metadata": {
    "collapsed": true
   },
   "outputs": [],
   "source": []
  }
 ],
 "metadata": {
  "kernelspec": {
   "display_name": "Python 2",
   "language": "python",
   "name": "python2"
  },
  "language_info": {
   "codemirror_mode": {
    "name": "ipython",
    "version": 2
   },
   "file_extension": ".py",
   "mimetype": "text/x-python",
   "name": "python",
   "nbconvert_exporter": "python",
   "pygments_lexer": "ipython2",
   "version": "2.7.5"
  }
 },
 "nbformat": 4,
 "nbformat_minor": 0
}
